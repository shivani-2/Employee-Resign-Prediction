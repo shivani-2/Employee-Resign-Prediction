{
  "nbformat": 4,
  "nbformat_minor": 0,
  "metadata": {
    "colab": {
      "name": "Employee_Resign_Prediction.ipynb",
      "provenance": [],
      "collapsed_sections": [],
      "toc_visible": true,
      "include_colab_link": true
    },
    "kernelspec": {
      "name": "python3",
      "display_name": "Python 3"
    }
  },
  "cells": [
    {
      "cell_type": "markdown",
      "metadata": {
        "id": "view-in-github",
        "colab_type": "text"
      },
      "source": [
        "<a href=\"https://colab.research.google.com/github/shivani-2/Employee-Resign-Prediction/blob/master/Employee_Resign_Prediction.ipynb\" target=\"_parent\"><img src=\"https://colab.research.google.com/assets/colab-badge.svg\" alt=\"Open In Colab\"/></a>"
      ]
    },
    {
      "cell_type": "markdown",
      "metadata": {
        "id": "B5M2kSBIoYQ-"
      },
      "source": [
        "#MEMBER INFO\n",
        "This assignment was done by:\n",
        "\n",
        "Group ID: gRsBiKd66\n",
        "\n",
        "Shivani Shenai (User ID: z-k0LeOej)\n",
        "\n",
        "Sagarika Raje (User ID: ORTBNrVGR)\n"
      ]
    },
    {
      "cell_type": "code",
      "metadata": {
        "colab": {
          "base_uri": "https://localhost:8080/"
        },
        "id": "IcKrrngafQ3L",
        "outputId": "79e3aa72-f8ad-4dfb-b9ee-b086d7a579ed"
      },
      "source": [
        "from google.colab import drive\n",
        "drive.mount('/content/drive')"
      ],
      "execution_count": null,
      "outputs": [
        {
          "output_type": "stream",
          "text": [
            "Mounted at /content/drive\n"
          ],
          "name": "stdout"
        }
      ]
    },
    {
      "cell_type": "markdown",
      "metadata": {
        "id": "rWk1OAiYiiVb"
      },
      "source": [
        "#Importing Libraries "
      ]
    },
    {
      "cell_type": "code",
      "metadata": {
        "id": "zH2YHcUvhLbD"
      },
      "source": [
        "import pandas as pd\n",
        "import numpy as np\n",
        "import matplotlib.pyplot as plt\n",
        "import seaborn as sns\n",
        "%matplotlib inline"
      ],
      "execution_count": null,
      "outputs": []
    },
    {
      "cell_type": "markdown",
      "metadata": {
        "id": "uup8BCJpiguV"
      },
      "source": [
        "#Importing Dataset\n"
      ]
    },
    {
      "cell_type": "code",
      "metadata": {
        "id": "75c1_wgbhVKm"
      },
      "source": [
        "general_data = pd.read_csv('/content/drive/MyDrive/hr analytics/general_data.csv')\n",
        "employee_survey_data = pd.read_csv('/content/drive/MyDrive/hr analytics/employee_survey_data.csv')\n",
        "manager_survey_data = pd.read_csv('/content/drive/MyDrive/hr analytics/manager_survey_data.csv')"
      ],
      "execution_count": null,
      "outputs": []
    },
    {
      "cell_type": "code",
      "metadata": {
        "colab": {
          "base_uri": "https://localhost:8080/"
        },
        "id": "gk0TY3DshqQC",
        "outputId": "25d94b2e-c451-4d9f-94e7-c7d2997c5c57"
      },
      "source": [
        "print(general_data.shape , employee_survey_data.shape , manager_survey_data.shape)\n",
        "print(employee_survey_data.columns.tolist())\n",
        "print(manager_survey_data.columns.tolist())"
      ],
      "execution_count": null,
      "outputs": [
        {
          "output_type": "stream",
          "text": [
            "(4410, 24) (4410, 4) (4410, 3)\n",
            "['EmployeeID', 'EnvironmentSatisfaction', 'JobSatisfaction', 'WorkLifeBalance']\n",
            "['EmployeeID', 'JobInvolvement', 'PerformanceRating']\n"
          ],
          "name": "stdout"
        }
      ]
    },
    {
      "cell_type": "markdown",
      "metadata": {
        "id": "T57uyNFAqL0k"
      },
      "source": [
        "#Preprocessing\n",
        "For our dataset, we first decided to get rid of null values, if any. We then merged the multiple datasets provided, on the common column ie. 'EmployeeID'\n",
        "\n",
        "After this, we ran a simple Exploratory Data Analysis to give us an idea of the factors which really take part in determining the Employee Resign Prediction\n",
        "\n",
        "We then went on to splitting our dataset in a 75:25 ratio (75% data forms the training set and 25% data forms the test set) after which we encoded the categorical data and applied feature scaling."
      ]
    },
    {
      "cell_type": "markdown",
      "metadata": {
        "id": "3hQcb4KLo7mL"
      },
      "source": [
        "##Cleaning the Data"
      ]
    },
    {
      "cell_type": "markdown",
      "metadata": {
        "id": "uBQC0BprpPY5"
      },
      "source": [
        "###BEFORE"
      ]
    },
    {
      "cell_type": "code",
      "metadata": {
        "colab": {
          "base_uri": "https://localhost:8080/",
          "height": 507
        },
        "id": "Zkun_TPAhveZ",
        "outputId": "4d55267d-d2b8-482a-be13-00eeca32b119"
      },
      "source": [
        "plt.figure(figsize=(10,6))\n",
        "sns.heatmap(general_data.isnull(),yticklabels=False,cbar=False,cmap='viridis')"
      ],
      "execution_count": null,
      "outputs": [
        {
          "output_type": "execute_result",
          "data": {
            "text/plain": [
              "<matplotlib.axes._subplots.AxesSubplot at 0x7f840fc79710>"
            ]
          },
          "metadata": {
            "tags": []
          },
          "execution_count": 5
        },
        {
          "output_type": "display_data",
          "data": {
            "image/png": "[encoded data removed]",
            "text/plain": [
              "<Figure size 720x432 with 1 Axes>"
            ]
          },
          "metadata": {
            "tags": [],
            "needs_background": "light"
          }
        }
      ]
    },
    {
      "cell_type": "code",
      "metadata": {
        "colab": {
          "base_uri": "https://localhost:8080/",
          "height": 391
        },
        "id": "YJYMjs_En1EI",
        "outputId": "eeed0c5c-3411-41e6-f382-963227c540d1"
      },
      "source": [
        "plt.figure(figsize=(10,6))\n",
        "sns.heatmap(manager_survey_data.isnull(),yticklabels=False,cbar=False,cmap='viridis')"
      ],
      "execution_count": null,
      "outputs": [
        {
          "output_type": "execute_result",
          "data": {
            "text/plain": [
              "<matplotlib.axes._subplots.AxesSubplot at 0x7f840fc64c90>"
            ]
          },
          "metadata": {
            "tags": []
          },
          "execution_count": 6
        },
        {
          "output_type": "display_data",
          "data": {
            "image/png": "[encoded data removed]",
            "text/plain": [
              "<Figure size 720x432 with 1 Axes>"
            ]
          },
          "metadata": {
            "tags": [],
            "needs_background": "light"
          }
        }
      ]
    },
    {
      "cell_type": "code",
      "metadata": {
        "colab": {
          "base_uri": "https://localhost:8080/",
          "height": 391
        },
        "id": "gYDbm7FBn14n",
        "outputId": "611c26b7-f451-460c-b286-bfdfc6e87246"
      },
      "source": [
        "plt.figure(figsize=(10,6))\n",
        "sns.heatmap(employee_survey_data.isnull(),yticklabels=False,cbar=False,cmap='viridis')"
      ],
      "execution_count": null,
      "outputs": [
        {
          "output_type": "execute_result",
          "data": {
            "text/plain": [
              "<matplotlib.axes._subplots.AxesSubplot at 0x7f8406ef0fd0>"
            ]
          },
          "metadata": {
            "tags": []
          },
          "execution_count": 7
        },
        {
          "output_type": "display_data",
          "data": {
            "image/png": "[encoded data removed]",
            "text/plain": [
              "<Figure size 720x432 with 1 Axes>"
            ]
          },
          "metadata": {
            "tags": [],
            "needs_background": "light"
          }
        }
      ]
    },
    {
      "cell_type": "code",
      "metadata": {
        "id": "ilrFi1cjk3Gv"
      },
      "source": [
        "general_data['NumCompaniesWorked'].fillna(value=general_data['NumCompaniesWorked'].mean(), inplace=True)\n",
        "general_data['TotalWorkingYears'].fillna(value=general_data['TotalWorkingYears'].mean(), inplace=True)\n",
        "employee_survey_data['EnvironmentSatisfaction'].fillna(value=employee_survey_data['EnvironmentSatisfaction'].mean(), inplace=True)\n",
        "employee_survey_data['JobSatisfaction'].fillna(value=employee_survey_data['JobSatisfaction'].mean(), inplace=True)\n",
        "employee_survey_data['WorkLifeBalance'].fillna(value=employee_survey_data['WorkLifeBalance'].mean(), inplace=True)"
      ],
      "execution_count": null,
      "outputs": []
    },
    {
      "cell_type": "markdown",
      "metadata": {
        "id": "GfsGoV0QpNS6"
      },
      "source": [
        "###AFTER"
      ]
    },
    {
      "cell_type": "code",
      "metadata": {
        "colab": {
          "base_uri": "https://localhost:8080/"
        },
        "id": "b1qr33ALlmlU",
        "outputId": "4393139b-65db-4007-f388-ce3ab42ddaa4"
      },
      "source": [
        "general_data.info()"
      ],
      "execution_count": null,
      "outputs": [
        {
          "output_type": "stream",
          "text": [
            "<class 'pandas.core.frame.DataFrame'>\n",
            "RangeIndex: 4410 entries, 0 to 4409\n",
            "Data columns (total 24 columns):\n",
            " #   Column                   Non-Null Count  Dtype  \n",
            "---  ------                   --------------  -----  \n",
            " 0   Age                      4410 non-null   int64  \n",
            " 1   Attrition                4410 non-null   object \n",
            " 2   BusinessTravel           4410 non-null   object \n",
            " 3   Department               4410 non-null   object \n",
            " 4   DistanceFromHome         4410 non-null   int64  \n",
            " 5   Education                4410 non-null   int64  \n",
            " 6   EducationField           4410 non-null   object \n",
            " 7   EmployeeCount            4410 non-null   int64  \n",
            " 8   EmployeeID               4410 non-null   int64  \n",
            " 9   Gender                   4410 non-null   object \n",
            " 10  JobLevel                 4410 non-null   int64  \n",
            " 11  JobRole                  4410 non-null   object \n",
            " 12  MaritalStatus            4410 non-null   object \n",
            " 13  MonthlyIncome            4410 non-null   int64  \n",
            " 14  NumCompaniesWorked       4410 non-null   float64\n",
            " 15  Over18                   4410 non-null   object \n",
            " 16  PercentSalaryHike        4410 non-null   int64  \n",
            " 17  StandardHours            4410 non-null   int64  \n",
            " 18  StockOptionLevel         4410 non-null   int64  \n",
            " 19  TotalWorkingYears        4410 non-null   float64\n",
            " 20  TrainingTimesLastYear    4410 non-null   int64  \n",
            " 21  YearsAtCompany           4410 non-null   int64  \n",
            " 22  YearsSinceLastPromotion  4410 non-null   int64  \n",
            " 23  YearsWithCurrManager     4410 non-null   int64  \n",
            "dtypes: float64(2), int64(14), object(8)\n",
            "memory usage: 827.0+ KB\n"
          ],
          "name": "stdout"
        }
      ]
    },
    {
      "cell_type": "code",
      "metadata": {
        "id": "BSI5086zmWkf",
        "colab": {
          "base_uri": "https://localhost:8080/"
        },
        "outputId": "0f4191a0-8521-4731-d86b-a9bf76799259"
      },
      "source": [
        "employee_survey_data.info()"
      ],
      "execution_count": null,
      "outputs": [
        {
          "output_type": "stream",
          "text": [
            "<class 'pandas.core.frame.DataFrame'>\n",
            "RangeIndex: 4410 entries, 0 to 4409\n",
            "Data columns (total 4 columns):\n",
            " #   Column                   Non-Null Count  Dtype  \n",
            "---  ------                   --------------  -----  \n",
            " 0   EmployeeID               4410 non-null   int64  \n",
            " 1   EnvironmentSatisfaction  4410 non-null   float64\n",
            " 2   JobSatisfaction          4410 non-null   float64\n",
            " 3   WorkLifeBalance          4410 non-null   float64\n",
            "dtypes: float64(3), int64(1)\n",
            "memory usage: 137.9 KB\n"
          ],
          "name": "stdout"
        }
      ]
    },
    {
      "cell_type": "code",
      "metadata": {
        "colab": {
          "base_uri": "https://localhost:8080/"
        },
        "id": "y8h48onGojc6",
        "outputId": "b986cb31-a700-45a6-ab1f-a8db1a889ff7"
      },
      "source": [
        "manager_survey_data.info()"
      ],
      "execution_count": null,
      "outputs": [
        {
          "output_type": "stream",
          "text": [
            "<class 'pandas.core.frame.DataFrame'>\n",
            "RangeIndex: 4410 entries, 0 to 4409\n",
            "Data columns (total 3 columns):\n",
            " #   Column             Non-Null Count  Dtype\n",
            "---  ------             --------------  -----\n",
            " 0   EmployeeID         4410 non-null   int64\n",
            " 1   JobInvolvement     4410 non-null   int64\n",
            " 2   PerformanceRating  4410 non-null   int64\n",
            "dtypes: int64(3)\n",
            "memory usage: 103.5 KB\n"
          ],
          "name": "stdout"
        }
      ]
    },
    {
      "cell_type": "code",
      "metadata": {
        "colab": {
          "base_uri": "https://localhost:8080/"
        },
        "id": "ynuY6wi56gRQ",
        "outputId": "8e39000d-4e2f-49f7-f028-716dc8794627"
      },
      "source": [
        "print(general_data.shape ,  employee_survey_data.shape ,  manager_survey_data.shape)\n",
        "print(employee_survey_data.columns.tolist())\n",
        "print(manager_survey_data.columns.tolist())"
      ],
      "execution_count": null,
      "outputs": [
        {
          "output_type": "stream",
          "text": [
            "(4410, 24) (4410, 4) (4410, 3)\n",
            "['EmployeeID', 'EnvironmentSatisfaction', 'JobSatisfaction', 'WorkLifeBalance']\n",
            "['EmployeeID', 'JobInvolvement', 'PerformanceRating']\n"
          ],
          "name": "stdout"
        }
      ]
    },
    {
      "cell_type": "code",
      "metadata": {
        "colab": {
          "base_uri": "https://localhost:8080/",
          "height": 507
        },
        "id": "HtHwAPMIpCLe",
        "outputId": "9f4c0979-aeb4-4eef-cc32-e48a07805c41"
      },
      "source": [
        "plt.figure(figsize=(10,6))\n",
        "sns.heatmap(general_data.isnull(),yticklabels=False,cbar=False,cmap='viridis')"
      ],
      "execution_count": null,
      "outputs": [
        {
          "output_type": "execute_result",
          "data": {
            "text/plain": [
              "<matplotlib.axes._subplots.AxesSubplot at 0x7f840fc18b90>"
            ]
          },
          "metadata": {
            "tags": []
          },
          "execution_count": 13
        },
        {
          "output_type": "display_data",
          "data": {
            "image/png": "[encoded data removed]",
            "text/plain": [
              "<Figure size 720x432 with 1 Axes>"
            ]
          },
          "metadata": {
            "tags": [],
            "needs_background": "light"
          }
        }
      ]
    },
    {
      "cell_type": "code",
      "metadata": {
        "colab": {
          "base_uri": "https://localhost:8080/",
          "height": 391
        },
        "id": "WQixqlfTpCLs",
        "outputId": "b7c01fe3-468c-414c-e486-993d687f685f"
      },
      "source": [
        "plt.figure(figsize=(10,6))\n",
        "sns.heatmap(manager_survey_data.isnull(),yticklabels=False,cbar=False,cmap='viridis')"
      ],
      "execution_count": null,
      "outputs": [
        {
          "output_type": "execute_result",
          "data": {
            "text/plain": [
              "<matplotlib.axes._subplots.AxesSubplot at 0x7f8406e55190>"
            ]
          },
          "metadata": {
            "tags": []
          },
          "execution_count": 14
        },
        {
          "output_type": "display_data",
          "data": {
            "image/png": "[encoded data removed]",
            "text/plain": [
              "<Figure size 720x432 with 1 Axes>"
            ]
          },
          "metadata": {
            "tags": [],
            "needs_background": "light"
          }
        }
      ]
    },
    {
      "cell_type": "code",
      "metadata": {
        "colab": {
          "base_uri": "https://localhost:8080/",
          "height": 391
        },
        "id": "wB3gNKEApCLt",
        "outputId": "2a5f9601-0c12-4f6d-f970-a3aaf4947a48"
      },
      "source": [
        "plt.figure(figsize=(10,6))\n",
        "sns.heatmap(employee_survey_data.isnull(),yticklabels=False,cbar=False,cmap='viridis')"
      ],
      "execution_count": null,
      "outputs": [
        {
          "output_type": "execute_result",
          "data": {
            "text/plain": [
              "<matplotlib.axes._subplots.AxesSubplot at 0x7f8406edb390>"
            ]
          },
          "metadata": {
            "tags": []
          },
          "execution_count": 15
        },
        {
          "output_type": "display_data",
          "data": {
            "image/png": "[encoded data removed]",
            "text/plain": [
              "<Figure size 720x432 with 1 Axes>"
            ]
          },
          "metadata": {
            "tags": [],
            "needs_background": "light"
          }
        }
      ]
    },
    {
      "cell_type": "markdown",
      "metadata": {
        "id": "qTF91n4vumgF"
      },
      "source": [
        "##Merging the Datasets"
      ]
    },
    {
      "cell_type": "code",
      "metadata": {
        "colab": {
          "base_uri": "https://localhost:8080/",
          "height": 309
        },
        "id": "qolq90X_uaGY",
        "outputId": "60a90ff9-c304-49a8-df00-976f3cc43574"
      },
      "source": [
        "merge = pd.merge(employee_survey_data, manager_survey_data, on='EmployeeID')\n",
        "dataset = pd.merge(general_data, merge, on='EmployeeID')\n",
        "dataset.head()"
      ],
      "execution_count": null,
      "outputs": [
        {
          "output_type": "execute_result",
          "data": {
            "text/html": [
              "<div>\n",
              "<style scoped>\n",
              "    .dataframe tbody tr th:only-of-type {\n",
              "        vertical-align: middle;\n",
              "    }\n",
              "\n",
              "    .dataframe tbody tr th {\n",
              "        vertical-align: top;\n",
              "    }\n",
              "\n",
              "    .dataframe thead th {\n",
              "        text-align: right;\n",
              "    }\n",
              "</style>\n",
              "<table border=\"1\" class=\"dataframe\">\n",
              "  <thead>\n",
              "    <tr style=\"text-align: right;\">\n",
              "      <th></th>\n",
              "      <th>Age</th>\n",
              "      <th>Attrition</th>\n",
              "      <th>BusinessTravel</th>\n",
              "      <th>Department</th>\n",
              "      <th>DistanceFromHome</th>\n",
              "      <th>Education</th>\n",
              "      <th>EducationField</th>\n",
              "      <th>EmployeeCount</th>\n",
              "      <th>EmployeeID</th>\n",
              "      <th>Gender</th>\n",
              "      <th>JobLevel</th>\n",
              "      <th>JobRole</th>\n",
              "      <th>MaritalStatus</th>\n",
              "      <th>MonthlyIncome</th>\n",
              "      <th>NumCompaniesWorked</th>\n",
              "      <th>Over18</th>\n",
              "      <th>PercentSalaryHike</th>\n",
              "      <th>StandardHours</th>\n",
              "      <th>StockOptionLevel</th>\n",
              "      <th>TotalWorkingYears</th>\n",
              "      <th>TrainingTimesLastYear</th>\n",
              "      <th>YearsAtCompany</th>\n",
              "      <th>YearsSinceLastPromotion</th>\n",
              "      <th>YearsWithCurrManager</th>\n",
              "      <th>EnvironmentSatisfaction</th>\n",
              "      <th>JobSatisfaction</th>\n",
              "      <th>WorkLifeBalance</th>\n",
              "      <th>JobInvolvement</th>\n",
              "      <th>PerformanceRating</th>\n",
              "    </tr>\n",
              "  </thead>\n",
              "  <tbody>\n",
              "    <tr>\n",
              "      <th>0</th>\n",
              "      <td>51</td>\n",
              "      <td>No</td>\n",
              "      <td>Travel_Rarely</td>\n",
              "      <td>Sales</td>\n",
              "      <td>6</td>\n",
              "      <td>2</td>\n",
              "      <td>Life Sciences</td>\n",
              "      <td>1</td>\n",
              "      <td>1</td>\n",
              "      <td>Female</td>\n",
              "      <td>1</td>\n",
              "      <td>Healthcare Representative</td>\n",
              "      <td>Married</td>\n",
              "      <td>131160</td>\n",
              "      <td>1.0</td>\n",
              "      <td>Y</td>\n",
              "      <td>11</td>\n",
              "      <td>8</td>\n",
              "      <td>0</td>\n",
              "      <td>1.0</td>\n",
              "      <td>6</td>\n",
              "      <td>1</td>\n",
              "      <td>0</td>\n",
              "      <td>0</td>\n",
              "      <td>3.0</td>\n",
              "      <td>4.0</td>\n",
              "      <td>2.0</td>\n",
              "      <td>3</td>\n",
              "      <td>3</td>\n",
              "    </tr>\n",
              "    <tr>\n",
              "      <th>1</th>\n",
              "      <td>31</td>\n",
              "      <td>Yes</td>\n",
              "      <td>Travel_Frequently</td>\n",
              "      <td>Research &amp; Development</td>\n",
              "      <td>10</td>\n",
              "      <td>1</td>\n",
              "      <td>Life Sciences</td>\n",
              "      <td>1</td>\n",
              "      <td>2</td>\n",
              "      <td>Female</td>\n",
              "      <td>1</td>\n",
              "      <td>Research Scientist</td>\n",
              "      <td>Single</td>\n",
              "      <td>41890</td>\n",
              "      <td>0.0</td>\n",
              "      <td>Y</td>\n",
              "      <td>23</td>\n",
              "      <td>8</td>\n",
              "      <td>1</td>\n",
              "      <td>6.0</td>\n",
              "      <td>3</td>\n",
              "      <td>5</td>\n",
              "      <td>1</td>\n",
              "      <td>4</td>\n",
              "      <td>3.0</td>\n",
              "      <td>2.0</td>\n",
              "      <td>4.0</td>\n",
              "      <td>2</td>\n",
              "      <td>4</td>\n",
              "    </tr>\n",
              "    <tr>\n",
              "      <th>2</th>\n",
              "      <td>32</td>\n",
              "      <td>No</td>\n",
              "      <td>Travel_Frequently</td>\n",
              "      <td>Research &amp; Development</td>\n",
              "      <td>17</td>\n",
              "      <td>4</td>\n",
              "      <td>Other</td>\n",
              "      <td>1</td>\n",
              "      <td>3</td>\n",
              "      <td>Male</td>\n",
              "      <td>4</td>\n",
              "      <td>Sales Executive</td>\n",
              "      <td>Married</td>\n",
              "      <td>193280</td>\n",
              "      <td>1.0</td>\n",
              "      <td>Y</td>\n",
              "      <td>15</td>\n",
              "      <td>8</td>\n",
              "      <td>3</td>\n",
              "      <td>5.0</td>\n",
              "      <td>2</td>\n",
              "      <td>5</td>\n",
              "      <td>0</td>\n",
              "      <td>3</td>\n",
              "      <td>2.0</td>\n",
              "      <td>2.0</td>\n",
              "      <td>1.0</td>\n",
              "      <td>3</td>\n",
              "      <td>3</td>\n",
              "    </tr>\n",
              "    <tr>\n",
              "      <th>3</th>\n",
              "      <td>38</td>\n",
              "      <td>No</td>\n",
              "      <td>Non-Travel</td>\n",
              "      <td>Research &amp; Development</td>\n",
              "      <td>2</td>\n",
              "      <td>5</td>\n",
              "      <td>Life Sciences</td>\n",
              "      <td>1</td>\n",
              "      <td>4</td>\n",
              "      <td>Male</td>\n",
              "      <td>3</td>\n",
              "      <td>Human Resources</td>\n",
              "      <td>Married</td>\n",
              "      <td>83210</td>\n",
              "      <td>3.0</td>\n",
              "      <td>Y</td>\n",
              "      <td>11</td>\n",
              "      <td>8</td>\n",
              "      <td>3</td>\n",
              "      <td>13.0</td>\n",
              "      <td>5</td>\n",
              "      <td>8</td>\n",
              "      <td>7</td>\n",
              "      <td>5</td>\n",
              "      <td>4.0</td>\n",
              "      <td>4.0</td>\n",
              "      <td>3.0</td>\n",
              "      <td>2</td>\n",
              "      <td>3</td>\n",
              "    </tr>\n",
              "    <tr>\n",
              "      <th>4</th>\n",
              "      <td>32</td>\n",
              "      <td>No</td>\n",
              "      <td>Travel_Rarely</td>\n",
              "      <td>Research &amp; Development</td>\n",
              "      <td>10</td>\n",
              "      <td>1</td>\n",
              "      <td>Medical</td>\n",
              "      <td>1</td>\n",
              "      <td>5</td>\n",
              "      <td>Male</td>\n",
              "      <td>1</td>\n",
              "      <td>Sales Executive</td>\n",
              "      <td>Single</td>\n",
              "      <td>23420</td>\n",
              "      <td>4.0</td>\n",
              "      <td>Y</td>\n",
              "      <td>12</td>\n",
              "      <td>8</td>\n",
              "      <td>2</td>\n",
              "      <td>9.0</td>\n",
              "      <td>2</td>\n",
              "      <td>6</td>\n",
              "      <td>0</td>\n",
              "      <td>4</td>\n",
              "      <td>4.0</td>\n",
              "      <td>1.0</td>\n",
              "      <td>3.0</td>\n",
              "      <td>3</td>\n",
              "      <td>3</td>\n",
              "    </tr>\n",
              "  </tbody>\n",
              "</table>\n",
              "</div>"
            ],
            "text/plain": [
              "   Age Attrition  ... JobInvolvement PerformanceRating\n",
              "0   51        No  ...              3                 3\n",
              "1   31       Yes  ...              2                 4\n",
              "2   32        No  ...              3                 3\n",
              "3   38        No  ...              2                 3\n",
              "4   32        No  ...              3                 3\n",
              "\n",
              "[5 rows x 29 columns]"
            ]
          },
          "metadata": {
            "tags": []
          },
          "execution_count": 16
        }
      ]
    },
    {
      "cell_type": "code",
      "metadata": {
        "colab": {
          "base_uri": "https://localhost:8080/"
        },
        "id": "C3iv2nVfh_Hr",
        "outputId": "6fcacdff-a535-491e-de11-29dd594e980b"
      },
      "source": [
        "dataset.columns"
      ],
      "execution_count": null,
      "outputs": [
        {
          "output_type": "execute_result",
          "data": {
            "text/plain": [
              "Index(['Age', 'Attrition', 'BusinessTravel', 'Department', 'DistanceFromHome',\n",
              "       'Education', 'EducationField', 'EmployeeCount', 'EmployeeID', 'Gender',\n",
              "       'JobLevel', 'JobRole', 'MaritalStatus', 'MonthlyIncome',\n",
              "       'NumCompaniesWorked', 'Over18', 'PercentSalaryHike', 'StandardHours',\n",
              "       'StockOptionLevel', 'TotalWorkingYears', 'TrainingTimesLastYear',\n",
              "       'YearsAtCompany', 'YearsSinceLastPromotion', 'YearsWithCurrManager',\n",
              "       'EnvironmentSatisfaction', 'JobSatisfaction', 'WorkLifeBalance',\n",
              "       'JobInvolvement', 'PerformanceRating'],\n",
              "      dtype='object')"
            ]
          },
          "metadata": {
            "tags": []
          },
          "execution_count": 17
        }
      ]
    },
    {
      "cell_type": "markdown",
      "metadata": {
        "id": "ZQfFoigwyCPW"
      },
      "source": [
        "##Exploring the Data"
      ]
    },
    {
      "cell_type": "code",
      "metadata": {
        "colab": {
          "base_uri": "https://localhost:8080/"
        },
        "id": "051_xWmYjHg3",
        "outputId": "0d4f1714-ea87-44aa-8624-70142860ae5f"
      },
      "source": [
        "print('Total Attrition Number is', dataset.Attrition.value_counts()[1])"
      ],
      "execution_count": null,
      "outputs": [
        {
          "output_type": "stream",
          "text": [
            "Total Attrition Number is 711\n"
          ],
          "name": "stdout"
        }
      ]
    },
    {
      "cell_type": "markdown",
      "metadata": {
        "id": "fVVkdY9hugHt"
      },
      "source": [
        "**AGE AND GENDER**"
      ]
    },
    {
      "cell_type": "code",
      "metadata": {
        "id": "wYFqw02NNAcT",
        "colab": {
          "base_uri": "https://localhost:8080/",
          "height": 350
        },
        "outputId": "f9f3766b-f39c-463b-c0ba-debce8b4b6f5"
      },
      "source": [
        "female_age = dataset[dataset['Gender']=='Female']['Age']\n",
        "male_age = dataset[dataset['Gender']=='Male']['Age']\n",
        "\n",
        "plt.figure(figsize = (8,5))\n",
        "sns.kdeplot(data=female_age, label=\"Female\", shade=True)\n",
        "sns.kdeplot(data=male_age, label=\"Male\", shade=True)\n",
        "\n",
        "plt.title(\"Distributions of Ages, by Gender\")\n",
        "plt.legend()\n",
        "plt.show()"
      ],
      "execution_count": null,
      "outputs": [
        {
          "output_type": "display_data",
          "data": {
            "image/png": "[encoded data removed]",
            "text/plain": [
              "<Figure size 576x360 with 1 Axes>"
            ]
          },
          "metadata": {
            "tags": [],
            "needs_background": "light"
          }
        }
      ]
    },
    {
      "cell_type": "markdown",
      "metadata": {
        "id": "A2KFjtwlp75G"
      },
      "source": [
        "Age Distribution is balanced."
      ]
    },
    {
      "cell_type": "markdown",
      "metadata": {
        "id": "kZblnz58up_3"
      },
      "source": [
        "**DISTANCE FROM HOME**"
      ]
    },
    {
      "cell_type": "code",
      "metadata": {
        "colab": {
          "base_uri": "https://localhost:8080/",
          "height": 261
        },
        "id": "SaqLthNJ6UxW",
        "outputId": "6728305a-686b-4b5b-cb78-a6dad97f8f18"
      },
      "source": [
        "plt.figure(figsize = (19,5))\n",
        "sns.countplot(x = 'DistanceFromHome', data = dataset, hue='Attrition')\n",
        "plt.ylabel('Number of Employee')\n",
        "plt.show()"
      ],
      "execution_count": null,
      "outputs": [
        {
          "output_type": "display_data",
          "data": {
            "image/png": "[encoded data removed]",
            "text/plain": [
              "<Figure size 1368x360 with 1 Axes>"
            ]
          },
          "metadata": {
            "tags": [],
            "needs_background": "light"
          }
        }
      ]
    },
    {
      "cell_type": "code",
      "metadata": {
        "id": "V4FgFM38kin2",
        "colab": {
          "base_uri": "https://localhost:8080/",
          "height": 334
        },
        "outputId": "1270c1b5-e9df-4913-bfa7-b7e9566a52f9"
      },
      "source": [
        "dist_yes = dataset[dataset['Attrition']=='Yes']['DistanceFromHome']\n",
        "dist_no = dataset[dataset['Attrition']=='No']['DistanceFromHome']\n",
        "\n",
        "plt.figure(figsize = (8,5))\n",
        "sns.kdeplot(data=dist_yes, label=\"Attrition: Yes\", shade=True)\n",
        "sns.kdeplot(data=dist_no, label=\"Attrition: No\", shade=True)\n",
        "\n",
        "plt.legend()\n",
        "plt.show()"
      ],
      "execution_count": null,
      "outputs": [
        {
          "output_type": "display_data",
          "data": {
            "image/png": "[encoded data removed]",
            "text/plain": [
              "<Figure size 576x360 with 1 Axes>"
            ]
          },
          "metadata": {
            "tags": [],
            "needs_background": "light"
          }
        }
      ]
    },
    {
      "cell_type": "markdown",
      "metadata": {
        "id": "D4Z-fztW67eW"
      },
      "source": [
        "Distance from home is not a factor that causes more Attrition."
      ]
    },
    {
      "cell_type": "markdown",
      "metadata": {
        "id": "Q4yHnXFOu-2w"
      },
      "source": [
        "**EDUCATION**"
      ]
    },
    {
      "cell_type": "code",
      "metadata": {
        "colab": {
          "base_uri": "https://localhost:8080/",
          "height": 351
        },
        "id": "qxbK1zcjvAtl",
        "outputId": "78a6396f-0bd0-4af5-a6c8-67063c9f423f"
      },
      "source": [
        "plt.figure(figsize = (10,5))\n",
        "sns.countplot(x = 'EducationField', data = dataset, hue='Attrition')\n",
        "plt.ylabel('Number of Employee')"
      ],
      "execution_count": null,
      "outputs": [
        {
          "output_type": "execute_result",
          "data": {
            "text/plain": [
              "Text(0, 0.5, 'Number of Employee')"
            ]
          },
          "metadata": {
            "tags": []
          },
          "execution_count": 22
        },
        {
          "output_type": "display_data",
          "data": {
            "image/png": "[encoded data removed]",
            "text/plain": [
              "<Figure size 720x360 with 1 Axes>"
            ]
          },
          "metadata": {
            "tags": [],
            "needs_background": "light"
          }
        }
      ]
    },
    {
      "cell_type": "code",
      "metadata": {
        "colab": {
          "base_uri": "https://localhost:8080/"
        },
        "id": "fOTHzIuxvBEb",
        "outputId": "9af76a27-0d22-4e1e-97bb-6318f4d3f2d3"
      },
      "source": [
        "edu = dataset['EducationField'].value_counts()\n",
        "at_yes = dataset[dataset['Attrition']=='Yes']['EducationField'].value_counts()\n",
        "\n",
        "edu_field_per = at_yes/edu*100\n",
        "\n",
        "print(round(edu_field_per,2))"
      ],
      "execution_count": null,
      "outputs": [
        {
          "output_type": "stream",
          "text": [
            "Human Resources     40.74\n",
            "Life Sciences       16.67\n",
            "Marketing           15.72\n",
            "Medical             16.16\n",
            "Other               12.20\n",
            "Technical Degree    11.36\n",
            "Name: EducationField, dtype: float64\n"
          ],
          "name": "stdout"
        }
      ]
    },
    {
      "cell_type": "markdown",
      "metadata": {
        "id": "t8ZdZeHGvG1b"
      },
      "source": [
        "Human resources has the highest ratio. "
      ]
    },
    {
      "cell_type": "markdown",
      "metadata": {
        "id": "T4W8K7uovQnZ"
      },
      "source": [
        "**GENDER**"
      ]
    },
    {
      "cell_type": "code",
      "metadata": {
        "colab": {
          "base_uri": "https://localhost:8080/",
          "height": 297
        },
        "id": "2PrnSKZZvUm_",
        "outputId": "dcbd2594-7167-4fb2-e707-89e80d9f8857"
      },
      "source": [
        "sns.countplot(x = 'Gender', data = dataset, hue='Attrition')\n",
        "plt.ylabel('Number of Employee')"
      ],
      "execution_count": null,
      "outputs": [
        {
          "output_type": "execute_result",
          "data": {
            "text/plain": [
              "Text(0, 0.5, 'Number of Employee')"
            ]
          },
          "metadata": {
            "tags": []
          },
          "execution_count": 24
        },
        {
          "output_type": "display_data",
          "data": {
            "image/png": "[encoded data removed]",
            "text/plain": [
              "<Figure size 432x288 with 1 Axes>"
            ]
          },
          "metadata": {
            "tags": [],
            "needs_background": "light"
          }
        }
      ]
    },
    {
      "cell_type": "code",
      "metadata": {
        "colab": {
          "base_uri": "https://localhost:8080/"
        },
        "id": "50chEQGZva84",
        "outputId": "ea55071d-c35c-4be6-badb-2b422c49f1ff"
      },
      "source": [
        "at_yes = dataset[dataset['Attrition']=='Yes']['Gender'].value_counts()\n",
        "\n",
        "count_female = (dataset['Gender'] == 'Female').value_counts()[1]\n",
        "fem_perc = (at_yes[1]/count_female)*100\n",
        "count_male = (dataset['Gender'] == 'Male').value_counts()[1]\n",
        "male_perc = (at_yes[0]/count_male)*100\n",
        "\n",
        "print('Female Left Job Percentage:', round(fem_perc,3) , '%')\n",
        "print('Male Left Job Percentage:', round(male_perc,3) , '%')"
      ],
      "execution_count": null,
      "outputs": [
        {
          "output_type": "stream",
          "text": [
            "Female Left Job Percentage: 15.306 %\n",
            "Male Left Job Percentage: 16.667 %\n"
          ],
          "name": "stdout"
        }
      ]
    },
    {
      "cell_type": "markdown",
      "metadata": {
        "id": "Q1XSgKBdvhIK"
      },
      "source": [
        "The ratio of males and females who left the job is approximately the same. "
      ]
    },
    {
      "cell_type": "markdown",
      "metadata": {
        "id": "JG4jOF3ZxYLa"
      },
      "source": [
        "**JOB LEVEL**"
      ]
    },
    {
      "cell_type": "code",
      "metadata": {
        "id": "79wamyaUxaSG",
        "colab": {
          "base_uri": "https://localhost:8080/",
          "height": 334
        },
        "outputId": "36d1e0f7-fc75-4bdf-96a1-2a1b61fbf8bc"
      },
      "source": [
        "job_level_yes = dataset[dataset['Attrition']=='Yes']['JobLevel']\n",
        "job_level_no = dataset[dataset['Attrition']=='No']['JobLevel']\n",
        "\n",
        "plt.figure(figsize = (8,5))\n",
        "sns.kdeplot(data=job_level_yes, label=\"Attrition: Yes\", shade=True)\n",
        "sns.kdeplot(data=job_level_no, label=\"Attrition: No\", shade=True)\n",
        "\n",
        "plt.legend()\n",
        "plt.show()"
      ],
      "execution_count": null,
      "outputs": [
        {
          "output_type": "display_data",
          "data": {
            "image/png": "[encoded data removed]",
            "text/plain": [
              "<Figure size 576x360 with 1 Axes>"
            ]
          },
          "metadata": {
            "tags": [],
            "needs_background": "light"
          }
        }
      ]
    },
    {
      "cell_type": "code",
      "metadata": {
        "id": "1gWB2S28xawH",
        "colab": {
          "base_uri": "https://localhost:8080/"
        },
        "outputId": "314bf285-656c-4995-d29e-cfd059f8d240"
      },
      "source": [
        "job_level_total = dataset['JobLevel'].value_counts()\n",
        "at_yes = dataset[dataset['Attrition']=='Yes']['JobLevel'].value_counts()\n",
        "\n",
        "job_level_perc = at_yes/job_level_total*100\n",
        "\n",
        "print(round(job_level_perc,2))"
      ],
      "execution_count": null,
      "outputs": [
        {
          "output_type": "stream",
          "text": [
            "1    15.47\n",
            "2    17.79\n",
            "3    14.68\n",
            "4    16.04\n",
            "5    13.04\n",
            "Name: JobLevel, dtype: float64\n"
          ],
          "name": "stdout"
        }
      ]
    },
    {
      "cell_type": "markdown",
      "metadata": {
        "id": "T_d-8cmD79wh"
      },
      "source": [
        "Level 2 has the most number of attritions."
      ]
    },
    {
      "cell_type": "markdown",
      "metadata": {
        "id": "SlMHSk0zvibN"
      },
      "source": [
        "**JOB ROLE**"
      ]
    },
    {
      "cell_type": "code",
      "metadata": {
        "colab": {
          "base_uri": "https://localhost:8080/",
          "height": 261
        },
        "id": "-0VeJtOAvh-3",
        "outputId": "c75a9065-e699-4035-f9ee-f610fcf556de"
      },
      "source": [
        "plt.figure(figsize = (19,5))\n",
        "sns.countplot(x = 'JobRole', data = dataset, hue='Attrition')\n",
        "plt.ylabel('Number of Employee')\n",
        "plt.show()"
      ],
      "execution_count": null,
      "outputs": [
        {
          "output_type": "display_data",
          "data": {
            "image/png": "[encoded data removed]",
            "text/plain": [
              "<Figure size 1368x360 with 1 Axes>"
            ]
          },
          "metadata": {
            "tags": [],
            "needs_background": "light"
          }
        }
      ]
    },
    {
      "cell_type": "code",
      "metadata": {
        "colab": {
          "base_uri": "https://localhost:8080/"
        },
        "id": "_toexSuKvvTS",
        "outputId": "9ccd3000-70a6-4a64-b545-d9049c90ddc2"
      },
      "source": [
        "edu = dataset['JobRole'].value_counts()\n",
        "at_yes = dataset[dataset['Attrition']=='Yes']['JobRole'].value_counts()\n",
        "\n",
        "job_role_per = at_yes/edu*100\n",
        "\n",
        "print(round(job_role_per,2))"
      ],
      "execution_count": null,
      "outputs": [
        {
          "output_type": "stream",
          "text": [
            "Healthcare Representative    14.50\n",
            "Human Resources              13.46\n",
            "Laboratory Technician        16.22\n",
            "Manager                      13.73\n",
            "Manufacturing Director       11.03\n",
            "Research Director            23.75\n",
            "Research Scientist           18.15\n",
            "Sales Executive              16.87\n",
            "Sales Representative         14.46\n",
            "Name: JobRole, dtype: float64\n"
          ],
          "name": "stdout"
        }
      ]
    },
    {
      "cell_type": "markdown",
      "metadata": {
        "id": "58K-NTahv0dj"
      },
      "source": [
        "The highest resign ratio here is that of a research director."
      ]
    },
    {
      "cell_type": "markdown",
      "metadata": {
        "id": "FXcI0cJav1a8"
      },
      "source": [
        "**MARITAL STATUS**"
      ]
    },
    {
      "cell_type": "code",
      "metadata": {
        "id": "V1bC_QvCv8jl",
        "colab": {
          "base_uri": "https://localhost:8080/",
          "height": 351
        },
        "outputId": "6be3c17e-dd46-433f-82d6-cdc9dd8b0558"
      },
      "source": [
        "plt.figure(figsize=(8,5))\n",
        "sns.countplot(x='MaritalStatus', data = dataset, hue= 'Attrition')\n",
        "plt.ylabel('Number of Employee')"
      ],
      "execution_count": null,
      "outputs": [
        {
          "output_type": "execute_result",
          "data": {
            "text/plain": [
              "Text(0, 0.5, 'Number of Employee')"
            ]
          },
          "metadata": {
            "tags": []
          },
          "execution_count": 30
        },
        {
          "output_type": "display_data",
          "data": {
            "image/png": "[encoded data removed]",
            "text/plain": [
              "<Figure size 576x360 with 1 Axes>"
            ]
          },
          "metadata": {
            "tags": [],
            "needs_background": "light"
          }
        }
      ]
    },
    {
      "cell_type": "code",
      "metadata": {
        "colab": {
          "base_uri": "https://localhost:8080/"
        },
        "id": "CV0fjDFC84mg",
        "outputId": "97660ad6-d6e0-41c4-e8f7-eccf7653d76f"
      },
      "source": [
        "ms = dataset['MaritalStatus'].value_counts()\n",
        "at_yes = dataset[dataset['Attrition']=='Yes']['MaritalStatus'].value_counts()\n",
        "\n",
        "ms_perc = at_yes/ms*100\n",
        "\n",
        "print(round(ms_perc,2))"
      ],
      "execution_count": null,
      "outputs": [
        {
          "output_type": "stream",
          "text": [
            "Divorced    10.09\n",
            "Married     12.48\n",
            "Single      25.53\n",
            "Name: MaritalStatus, dtype: float64\n"
          ],
          "name": "stdout"
        }
      ]
    },
    {
      "cell_type": "markdown",
      "metadata": {
        "id": "460WAGKZ9E3k"
      },
      "source": [
        "It is observed that employees who are single tend to leave the job more."
      ]
    },
    {
      "cell_type": "markdown",
      "metadata": {
        "id": "S8-DRQCzv_GK"
      },
      "source": [
        "**MONTHLY INCOME**"
      ]
    },
    {
      "cell_type": "code",
      "metadata": {
        "id": "69uhR4N7wITn",
        "colab": {
          "base_uri": "https://localhost:8080/",
          "height": 345
        },
        "outputId": "1921fa19-0ee2-474f-ac27-61b328837738"
      },
      "source": [
        "monthly_inc_yes = dataset[dataset['Attrition']=='Yes']['MonthlyIncome']\n",
        "monthly_inc_no = dataset[dataset['Attrition']=='No']['MonthlyIncome']\n",
        "\n",
        "plt.figure(figsize = (8,5))\n",
        "sns.kdeplot(data=monthly_inc_yes, label=\"Attrition: Yes\", shade=True)\n",
        "sns.kdeplot(data=monthly_inc_no, label=\"Attrition: No\", shade=True)\n",
        "\n",
        "plt.legend()\n",
        "plt.show()"
      ],
      "execution_count": null,
      "outputs": [
        {
          "output_type": "display_data",
          "data": {
            "image/png": "[encoded data removed]",
            "text/plain": [
              "<Figure size 576x360 with 1 Axes>"
            ]
          },
          "metadata": {
            "tags": [],
            "needs_background": "light"
          }
        }
      ]
    },
    {
      "cell_type": "code",
      "metadata": {
        "colab": {
          "base_uri": "https://localhost:8080/"
        },
        "id": "5vfUv-5sMGOI",
        "outputId": "4c765942-b88c-486b-e8c3-1a3878028f42"
      },
      "source": [
        "#Average Monthyly Salaries as per department\n",
        "\n",
        "income_sales = dataset[dataset['Department']=='Sales']['MonthlyIncome']\n",
        "income_RD = dataset[dataset['Department']=='Research & Development']['MonthlyIncome']\n",
        "income_HR = dataset[dataset['Department']=='Human Resources']['MonthlyIncome']\n",
        "\n",
        "print('Sales Dep. Average:',round(income_sales.mean()),2)\n",
        "print('R&D Dep. Average:',round(income_RD.mean()),2)\n",
        "print('Human Resources Dep. Average:',round(income_HR.mean()),2)"
      ],
      "execution_count": null,
      "outputs": [
        {
          "output_type": "stream",
          "text": [
            "Sales Dep. Average: 61384 2\n",
            "R&D Dep. Average: 67188 2\n",
            "Human Resources Dep. Average: 57904 2\n"
          ],
          "name": "stdout"
        }
      ]
    },
    {
      "cell_type": "markdown",
      "metadata": {
        "id": "bKAIoZN6Mdk_"
      },
      "source": [
        "Human Resources Department has the least average monthly salary."
      ]
    },
    {
      "cell_type": "markdown",
      "metadata": {
        "id": "N0A9nDkZwI1l"
      },
      "source": [
        "**NUMBER OF COMPANIES WORKED**"
      ]
    },
    {
      "cell_type": "code",
      "metadata": {
        "id": "zWqTEStpwMJV",
        "colab": {
          "base_uri": "https://localhost:8080/",
          "height": 350
        },
        "outputId": "7d986a8c-028d-44e9-ffb1-8262555c6b22"
      },
      "source": [
        "num_com_yes = dataset[dataset['Attrition']=='Yes']['NumCompaniesWorked']\n",
        "num_com_no = dataset[dataset['Attrition']=='No']['NumCompaniesWorked']\n",
        "\n",
        "plt.figure(figsize = (8,5))\n",
        "sns.kdeplot(data=num_com_yes, label=\"Attrition: Yes\", shade=True)\n",
        "sns.kdeplot(data=num_com_no, label=\"Attrition: No\", shade=True)\n",
        "\n",
        "plt.title(\"Distributions of Number Of Companies\")\n",
        "plt.legend()\n",
        "plt.show()"
      ],
      "execution_count": null,
      "outputs": [
        {
          "output_type": "display_data",
          "data": {
            "image/png": "[encoded data removed]",
            "text/plain": [
              "<Figure size 576x360 with 1 Axes>"
            ]
          },
          "metadata": {
            "tags": [],
            "needs_background": "light"
          }
        }
      ]
    },
    {
      "cell_type": "markdown",
      "metadata": {
        "id": "I8w1WuKtxhh1"
      },
      "source": [
        "**TOTAL WORKING YEARS**"
      ]
    },
    {
      "cell_type": "code",
      "metadata": {
        "id": "DvgeZbavxvPb",
        "colab": {
          "base_uri": "https://localhost:8080/",
          "height": 350
        },
        "outputId": "e11fa401-df3b-4ed3-a5f7-9348be9d75ae"
      },
      "source": [
        "work_year_yes = dataset[dataset['Attrition']=='Yes']['TotalWorkingYears']\n",
        "work_year_no = dataset[dataset['Attrition']=='No']['TotalWorkingYears']\n",
        "\n",
        "plt.figure(figsize = (8,5))\n",
        "sns.kdeplot(data=work_year_yes, label=\"Attrition: Yes\", shade=True)\n",
        "sns.kdeplot(data=work_year_no, label=\"Attrition: No\", shade=True)\n",
        "\n",
        "plt.title(\"Distributions of Total Working Years\")\n",
        "plt.legend()\n",
        "plt.show()"
      ],
      "execution_count": null,
      "outputs": [
        {
          "output_type": "display_data",
          "data": {
            "image/png": "[encoded data removed]",
            "text/plain": [
              "<Figure size 576x360 with 1 Axes>"
            ]
          },
          "metadata": {
            "tags": [],
            "needs_background": "light"
          }
        }
      ]
    },
    {
      "cell_type": "markdown",
      "metadata": {
        "id": "haaUFzGxa_YR"
      },
      "source": [
        "The employees with the less total working years are more likely to leave the job."
      ]
    },
    {
      "cell_type": "markdown",
      "metadata": {
        "id": "Ym81apKUxvhn"
      },
      "source": [
        "**TRAINING TIMES LAST YEAR**"
      ]
    },
    {
      "cell_type": "code",
      "metadata": {
        "id": "UYLueBDJxzCn",
        "colab": {
          "base_uri": "https://localhost:8080/",
          "height": 335
        },
        "outputId": "c6e48cbd-ad75-4dd7-e31f-b720921116e5"
      },
      "source": [
        "training_yes = dataset[dataset['Attrition']=='Yes']['TrainingTimesLastYear']\n",
        "training_no = dataset[dataset['Attrition']=='No']['TrainingTimesLastYear']\n",
        "\n",
        "plt.figure(figsize = (8,5))\n",
        "sns.kdeplot(data=training_yes, label=\"Attrition: Yes\", shade=True)\n",
        "sns.kdeplot(data=training_no, label=\"Attrition: No\", shade=True)\n",
        "\n",
        "plt.legend()\n",
        "plt.show()"
      ],
      "execution_count": null,
      "outputs": [
        {
          "output_type": "display_data",
          "data": {
            "image/png": "[encoded data removed]",
            "text/plain": [
              "<Figure size 576x360 with 1 Axes>"
            ]
          },
          "metadata": {
            "tags": [],
            "needs_background": "light"
          }
        }
      ]
    },
    {
      "cell_type": "code",
      "metadata": {
        "id": "bg-b1fjFxzZR",
        "colab": {
          "base_uri": "https://localhost:8080/"
        },
        "outputId": "2ed7ca3b-1437-4879-c862-9d1933e815ed"
      },
      "source": [
        "training_total = dataset['TrainingTimesLastYear'].value_counts()\n",
        "at_yes = dataset[dataset['Attrition']=='Yes']['TrainingTimesLastYear'].value_counts()\n",
        "\n",
        "training_perc = at_yes/job_level_total*100\n",
        "\n",
        "print(round(training_perc,2))"
      ],
      "execution_count": null,
      "outputs": [
        {
          "output_type": "stream",
          "text": [
            "0      NaN\n",
            "1     1.84\n",
            "2    17.60\n",
            "3    39.45\n",
            "4    15.09\n",
            "5    24.64\n",
            "6      NaN\n",
            "dtype: float64\n"
          ],
          "name": "stdout"
        }
      ]
    },
    {
      "cell_type": "markdown",
      "metadata": {
        "id": "Wr0LqI1pwZRy"
      },
      "source": [
        "**YEARS AT COMPANY**"
      ]
    },
    {
      "cell_type": "code",
      "metadata": {
        "colab": {
          "base_uri": "https://localhost:8080/",
          "height": 335
        },
        "id": "6ToYwLCP94Dq",
        "outputId": "fffdd98b-377f-47da-9cd0-ccd0323c449d"
      },
      "source": [
        "training_yes = dataset[dataset['Attrition']=='Yes']['TrainingTimesLastYear']\n",
        "training_no = dataset[dataset['Attrition']=='No']['TrainingTimesLastYear']\n",
        "\n",
        "plt.figure(figsize = (8,5))\n",
        "sns.kdeplot(data=training_yes, label=\"Attrition: Yes\", shade=True)\n",
        "sns.kdeplot(data=training_no, label=\"Attrition: No\", shade=True)\n",
        "\n",
        "plt.legend()\n",
        "plt.show()"
      ],
      "execution_count": null,
      "outputs": [
        {
          "output_type": "display_data",
          "data": {
            "image/png": "[encoded data removed]",
            "text/plain": [
              "<Figure size 576x360 with 1 Axes>"
            ]
          },
          "metadata": {
            "tags": [],
            "needs_background": "light"
          }
        }
      ]
    },
    {
      "cell_type": "code",
      "metadata": {
        "colab": {
          "base_uri": "https://localhost:8080/"
        },
        "id": "N9A4byb294EV",
        "outputId": "f7c0aee3-5e64-4c36-d254-da67c56a39aa"
      },
      "source": [
        "training_total = dataset['TrainingTimesLastYear'].value_counts()\n",
        "at_yes = dataset[dataset['Attrition']=='Yes']['TrainingTimesLastYear'].value_counts()\n",
        "\n",
        "training_perc = at_yes/training_total*100\n",
        "\n",
        "print(round(training_perc,2))"
      ],
      "execution_count": null,
      "outputs": [
        {
          "output_type": "stream",
          "text": [
            "0    18.52\n",
            "1    14.08\n",
            "2    17.18\n",
            "3    17.52\n",
            "4    13.01\n",
            "5    14.29\n",
            "6     6.15\n",
            "Name: TrainingTimesLastYear, dtype: float64\n"
          ],
          "name": "stdout"
        }
      ]
    },
    {
      "cell_type": "markdown",
      "metadata": {
        "id": "25dO6nKmwdQM"
      },
      "source": [
        "**YEARS SINCE LAST PROMOTION**"
      ]
    },
    {
      "cell_type": "code",
      "metadata": {
        "colab": {
          "base_uri": "https://localhost:8080/",
          "height": 334
        },
        "id": "TBI6SX4695Q8",
        "outputId": "b1532b3c-e987-46b0-9cde-1a32fb68ed7d"
      },
      "source": [
        "promo_yes = dataset[dataset['Attrition']=='Yes']['YearsSinceLastPromotion']\n",
        "promo_no = dataset[dataset['Attrition']=='No']['YearsSinceLastPromotion']\n",
        "\n",
        "plt.figure(figsize = (8,5))\n",
        "sns.kdeplot(data=promo_yes, label=\"Attrition: Yes\", shade=True)\n",
        "sns.kdeplot(data=promo_no, label=\"Attrition: No\", shade=True)\n",
        "\n",
        "plt.legend()\n",
        "plt.show()"
      ],
      "execution_count": null,
      "outputs": [
        {
          "output_type": "display_data",
          "data": {
            "image/png": "[encoded data removed]",
            "text/plain": [
              "<Figure size 576x360 with 1 Axes>"
            ]
          },
          "metadata": {
            "tags": [],
            "needs_background": "light"
          }
        }
      ]
    },
    {
      "cell_type": "code",
      "metadata": {
        "colab": {
          "base_uri": "https://localhost:8080/"
        },
        "id": "FeklQn6z95Q_",
        "outputId": "2d6e9100-c879-4f34-9698-5eb44d8469e1"
      },
      "source": [
        "promo_total = dataset['YearsSinceLastPromotion'].value_counts()\n",
        "at_yes = dataset[dataset['Attrition']=='Yes']['YearsSinceLastPromotion'].value_counts()\n",
        "\n",
        "promo_perc = at_yes/promo_total*100\n",
        "\n",
        "print(round(promo_perc,2))"
      ],
      "execution_count": null,
      "outputs": [
        {
          "output_type": "stream",
          "text": [
            "0     18.93\n",
            "1     13.73\n",
            "2     16.98\n",
            "3     17.31\n",
            "4      8.20\n",
            "5      4.44\n",
            "6     18.75\n",
            "7     21.05\n",
            "8       NaN\n",
            "9     23.53\n",
            "10    16.67\n",
            "11     8.33\n",
            "12      NaN\n",
            "13    20.00\n",
            "14    11.11\n",
            "15    23.08\n",
            "Name: YearsSinceLastPromotion, dtype: float64\n"
          ],
          "name": "stdout"
        }
      ]
    },
    {
      "cell_type": "markdown",
      "metadata": {
        "id": "Nu442YC6woUs"
      },
      "source": [
        "**YEARS WITH CURRENT MANAGER**"
      ]
    },
    {
      "cell_type": "code",
      "metadata": {
        "colab": {
          "base_uri": "https://localhost:8080/",
          "height": 334
        },
        "id": "5SIw6yB196NB",
        "outputId": "329bbd26-6f15-4fa7-b09b-c2a9386789d7"
      },
      "source": [
        "curr_yes = dataset[dataset['Attrition']=='Yes']['YearsWithCurrManager']\n",
        "curr_no = dataset[dataset['Attrition']=='No']['YearsWithCurrManager']\n",
        "\n",
        "plt.figure(figsize = (8,5))\n",
        "sns.kdeplot(data=curr_yes, label=\"Attrition: Yes\", shade=True)\n",
        "sns.kdeplot(data=curr_no, label=\"Attrition: No\", shade=True)\n",
        "\n",
        "plt.legend()\n",
        "plt.show()"
      ],
      "execution_count": null,
      "outputs": [
        {
          "output_type": "display_data",
          "data": {
            "image/png": "[encoded data removed]",
            "text/plain": [
              "<Figure size 576x360 with 1 Axes>"
            ]
          },
          "metadata": {
            "tags": [],
            "needs_background": "light"
          }
        }
      ]
    },
    {
      "cell_type": "code",
      "metadata": {
        "colab": {
          "base_uri": "https://localhost:8080/"
        },
        "id": "G294P7HH96NE",
        "outputId": "37e9c898-e99b-4d0c-9774-81f57a0ceacb"
      },
      "source": [
        "curr_total = dataset['YearsWithCurrManager'].value_counts()\n",
        "at_yes = dataset[dataset['Attrition']=='Yes']['YearsWithCurrManager'].value_counts()\n",
        "\n",
        "curr_perc = at_yes/curr_total*100\n",
        "\n",
        "print(round(curr_perc,2))"
      ],
      "execution_count": null,
      "outputs": [
        {
          "output_type": "stream",
          "text": [
            "0     32.32\n",
            "1     14.47\n",
            "2     14.53\n",
            "3     13.38\n",
            "4     11.22\n",
            "5     12.90\n",
            "6     13.79\n",
            "7     14.35\n",
            "8      9.35\n",
            "9      9.38\n",
            "10    11.11\n",
            "11     4.55\n",
            "12      NaN\n",
            "13      NaN\n",
            "14    40.00\n",
            "15      NaN\n",
            "16      NaN\n",
            "17      NaN\n",
            "Name: YearsWithCurrManager, dtype: float64\n"
          ],
          "name": "stdout"
        }
      ]
    },
    {
      "cell_type": "markdown",
      "metadata": {
        "id": "fBog8WWHyGg_"
      },
      "source": [
        "**ENVIRONMENT SATISFACTION**"
      ]
    },
    {
      "cell_type": "code",
      "metadata": {
        "id": "JwjkdXcDyJLk",
        "colab": {
          "base_uri": "https://localhost:8080/",
          "height": 334
        },
        "outputId": "051d6d62-eab0-48b1-c3d4-16b699a3bc04"
      },
      "source": [
        "sat_yes = dataset[dataset['Attrition']=='Yes']['EnvironmentSatisfaction']\n",
        "sat_no = dataset[dataset['Attrition']=='No']['EnvironmentSatisfaction']\n",
        "\n",
        "plt.figure(figsize = (8,5))\n",
        "sns.kdeplot(data=sat_yes, label=\"Attrition: Yes\", shade=True)\n",
        "sns.kdeplot(data=sat_no, label=\"Attrition: No\", shade=True)\n",
        "\n",
        "plt.legend()\n",
        "plt.show()"
      ],
      "execution_count": null,
      "outputs": [
        {
          "output_type": "display_data",
          "data": {
            "image/png": "[encoded data removed]",
            "text/plain": [
              "<Figure size 576x360 with 1 Axes>"
            ]
          },
          "metadata": {
            "tags": [],
            "needs_background": "light"
          }
        }
      ]
    },
    {
      "cell_type": "markdown",
      "metadata": {
        "id": "dzS-T9HDyJbz"
      },
      "source": [
        "**JOB SATISFACTION**"
      ]
    },
    {
      "cell_type": "code",
      "metadata": {
        "id": "y1WE_SdLyLrZ",
        "colab": {
          "base_uri": "https://localhost:8080/",
          "height": 334
        },
        "outputId": "2b62e908-7665-432c-b323-92f3bdf98a09"
      },
      "source": [
        "sat_yes = dataset[dataset['Attrition']=='Yes']['JobSatisfaction']\n",
        "sat_no = dataset[dataset['Attrition']=='No']['JobSatisfaction']\n",
        "\n",
        "plt.figure(figsize = (8,5))\n",
        "sns.kdeplot(data=sat_yes, label=\"Attrition: Yes\", shade=True)\n",
        "sns.kdeplot(data=sat_no, label=\"Attrition: No\", shade=True)\n",
        "\n",
        "plt.legend()\n",
        "plt.show()"
      ],
      "execution_count": null,
      "outputs": [
        {
          "output_type": "display_data",
          "data": {
            "image/png": "[encoded data removed]",
            "text/plain": [
              "<Figure size 576x360 with 1 Axes>"
            ]
          },
          "metadata": {
            "tags": [],
            "needs_background": "light"
          }
        }
      ]
    },
    {
      "cell_type": "markdown",
      "metadata": {
        "id": "qC518PpEyMDA"
      },
      "source": [
        "**WORK LIFE BALANCE**"
      ]
    },
    {
      "cell_type": "code",
      "metadata": {
        "id": "FQvM4U4xyToR",
        "colab": {
          "base_uri": "https://localhost:8080/",
          "height": 334
        },
        "outputId": "a6d90726-7bd9-431a-9e02-3bd42c9a1340"
      },
      "source": [
        "balance_yes = dataset[dataset['Attrition']=='Yes']['WorkLifeBalance']\n",
        "balance_no = dataset[dataset['Attrition']=='No']['WorkLifeBalance']\n",
        "\n",
        "plt.figure(figsize = (8,5))\n",
        "sns.kdeplot(data=balance_yes, label=\"Attrition: Yes\", shade=True)\n",
        "sns.kdeplot(data=balance_no, label=\"Attrition: No\", shade=True)\n",
        "\n",
        "plt.legend()\n",
        "plt.show()"
      ],
      "execution_count": null,
      "outputs": [
        {
          "output_type": "display_data",
          "data": {
            "image/png": "[encoded data removed]",
            "text/plain": [
              "<Figure size 576x360 with 1 Axes>"
            ]
          },
          "metadata": {
            "tags": [],
            "needs_background": "light"
          }
        }
      ]
    },
    {
      "cell_type": "markdown",
      "metadata": {
        "id": "byyzyrfvyT4G"
      },
      "source": [
        "**JOB INVOLVEMENT**"
      ]
    },
    {
      "cell_type": "code",
      "metadata": {
        "id": "GdPYbIcWyVwA",
        "colab": {
          "base_uri": "https://localhost:8080/",
          "height": 334
        },
        "outputId": "65b3e00f-137b-4593-d284-fb79b5274a21"
      },
      "source": [
        "involve_yes = dataset[dataset['Attrition']=='Yes']['JobInvolvement']\n",
        "involve_no = dataset[dataset['Attrition']=='No']['JobInvolvement']\n",
        "\n",
        "plt.figure(figsize = (8,5))\n",
        "sns.kdeplot(data=involve_yes, label=\"Attrition: Yes\", shade=True)\n",
        "sns.kdeplot(data=involve_no, label=\"Attrition: No\", shade=True)\n",
        "\n",
        "plt.legend()\n",
        "plt.show()"
      ],
      "execution_count": null,
      "outputs": [
        {
          "output_type": "display_data",
          "data": {
            "image/png": "[encoded data removed]",
            "text/plain": [
              "<Figure size 576x360 with 1 Axes>"
            ]
          },
          "metadata": {
            "tags": [],
            "needs_background": "light"
          }
        }
      ]
    },
    {
      "cell_type": "markdown",
      "metadata": {
        "id": "z7zcOWKawvaN"
      },
      "source": [
        "**PERFORMANCE RATING**"
      ]
    },
    {
      "cell_type": "code",
      "metadata": {
        "id": "41mlSP-qx-Ip",
        "colab": {
          "base_uri": "https://localhost:8080/",
          "height": 334
        },
        "outputId": "b61f27ce-0170-4047-8383-b579c4eaaf9e"
      },
      "source": [
        "balance_yes = dataset[dataset['Attrition']=='Yes']['PerformanceRating']\n",
        "balance_no = dataset[dataset['Attrition']=='No']['PerformanceRating']\n",
        "\n",
        "plt.figure(figsize = (8,5))\n",
        "sns.kdeplot(data=balance_yes, label=\"Attrition: Yes\", shade=True)\n",
        "sns.kdeplot(data=balance_no, label=\"Attrition: No\", shade=True)\n",
        "\n",
        "plt.legend()\n",
        "plt.show()"
      ],
      "execution_count": null,
      "outputs": [
        {
          "output_type": "display_data",
          "data": {
            "image/png": "[encoded data removed]",
            "text/plain": [
              "<Figure size 576x360 with 1 Axes>"
            ]
          },
          "metadata": {
            "tags": [],
            "needs_background": "light"
          }
        }
      ]
    },
    {
      "cell_type": "markdown",
      "metadata": {
        "id": "wgMbesBXVIZx"
      },
      "source": [
        "##Splitting the Dataset"
      ]
    },
    {
      "cell_type": "code",
      "metadata": {
        "colab": {
          "base_uri": "https://localhost:8080/",
          "height": 309
        },
        "id": "-SyI9lj3_8aJ",
        "outputId": "7f44f0b2-ae73-4c24-eb8b-73d8b28162bc"
      },
      "source": [
        "general_data.head()"
      ],
      "execution_count": null,
      "outputs": [
        {
          "output_type": "execute_result",
          "data": {
            "text/html": [
              "<div>\n",
              "<style scoped>\n",
              "    .dataframe tbody tr th:only-of-type {\n",
              "        vertical-align: middle;\n",
              "    }\n",
              "\n",
              "    .dataframe tbody tr th {\n",
              "        vertical-align: top;\n",
              "    }\n",
              "\n",
              "    .dataframe thead th {\n",
              "        text-align: right;\n",
              "    }\n",
              "</style>\n",
              "<table border=\"1\" class=\"dataframe\">\n",
              "  <thead>\n",
              "    <tr style=\"text-align: right;\">\n",
              "      <th></th>\n",
              "      <th>Age</th>\n",
              "      <th>Attrition</th>\n",
              "      <th>BusinessTravel</th>\n",
              "      <th>Department</th>\n",
              "      <th>DistanceFromHome</th>\n",
              "      <th>Education</th>\n",
              "      <th>EducationField</th>\n",
              "      <th>EmployeeCount</th>\n",
              "      <th>EmployeeID</th>\n",
              "      <th>Gender</th>\n",
              "      <th>JobLevel</th>\n",
              "      <th>JobRole</th>\n",
              "      <th>MaritalStatus</th>\n",
              "      <th>MonthlyIncome</th>\n",
              "      <th>NumCompaniesWorked</th>\n",
              "      <th>Over18</th>\n",
              "      <th>PercentSalaryHike</th>\n",
              "      <th>StandardHours</th>\n",
              "      <th>StockOptionLevel</th>\n",
              "      <th>TotalWorkingYears</th>\n",
              "      <th>TrainingTimesLastYear</th>\n",
              "      <th>YearsAtCompany</th>\n",
              "      <th>YearsSinceLastPromotion</th>\n",
              "      <th>YearsWithCurrManager</th>\n",
              "    </tr>\n",
              "  </thead>\n",
              "  <tbody>\n",
              "    <tr>\n",
              "      <th>0</th>\n",
              "      <td>51</td>\n",
              "      <td>No</td>\n",
              "      <td>Travel_Rarely</td>\n",
              "      <td>Sales</td>\n",
              "      <td>6</td>\n",
              "      <td>2</td>\n",
              "      <td>Life Sciences</td>\n",
              "      <td>1</td>\n",
              "      <td>1</td>\n",
              "      <td>Female</td>\n",
              "      <td>1</td>\n",
              "      <td>Healthcare Representative</td>\n",
              "      <td>Married</td>\n",
              "      <td>131160</td>\n",
              "      <td>1.0</td>\n",
              "      <td>Y</td>\n",
              "      <td>11</td>\n",
              "      <td>8</td>\n",
              "      <td>0</td>\n",
              "      <td>1.0</td>\n",
              "      <td>6</td>\n",
              "      <td>1</td>\n",
              "      <td>0</td>\n",
              "      <td>0</td>\n",
              "    </tr>\n",
              "    <tr>\n",
              "      <th>1</th>\n",
              "      <td>31</td>\n",
              "      <td>Yes</td>\n",
              "      <td>Travel_Frequently</td>\n",
              "      <td>Research &amp; Development</td>\n",
              "      <td>10</td>\n",
              "      <td>1</td>\n",
              "      <td>Life Sciences</td>\n",
              "      <td>1</td>\n",
              "      <td>2</td>\n",
              "      <td>Female</td>\n",
              "      <td>1</td>\n",
              "      <td>Research Scientist</td>\n",
              "      <td>Single</td>\n",
              "      <td>41890</td>\n",
              "      <td>0.0</td>\n",
              "      <td>Y</td>\n",
              "      <td>23</td>\n",
              "      <td>8</td>\n",
              "      <td>1</td>\n",
              "      <td>6.0</td>\n",
              "      <td>3</td>\n",
              "      <td>5</td>\n",
              "      <td>1</td>\n",
              "      <td>4</td>\n",
              "    </tr>\n",
              "    <tr>\n",
              "      <th>2</th>\n",
              "      <td>32</td>\n",
              "      <td>No</td>\n",
              "      <td>Travel_Frequently</td>\n",
              "      <td>Research &amp; Development</td>\n",
              "      <td>17</td>\n",
              "      <td>4</td>\n",
              "      <td>Other</td>\n",
              "      <td>1</td>\n",
              "      <td>3</td>\n",
              "      <td>Male</td>\n",
              "      <td>4</td>\n",
              "      <td>Sales Executive</td>\n",
              "      <td>Married</td>\n",
              "      <td>193280</td>\n",
              "      <td>1.0</td>\n",
              "      <td>Y</td>\n",
              "      <td>15</td>\n",
              "      <td>8</td>\n",
              "      <td>3</td>\n",
              "      <td>5.0</td>\n",
              "      <td>2</td>\n",
              "      <td>5</td>\n",
              "      <td>0</td>\n",
              "      <td>3</td>\n",
              "    </tr>\n",
              "    <tr>\n",
              "      <th>3</th>\n",
              "      <td>38</td>\n",
              "      <td>No</td>\n",
              "      <td>Non-Travel</td>\n",
              "      <td>Research &amp; Development</td>\n",
              "      <td>2</td>\n",
              "      <td>5</td>\n",
              "      <td>Life Sciences</td>\n",
              "      <td>1</td>\n",
              "      <td>4</td>\n",
              "      <td>Male</td>\n",
              "      <td>3</td>\n",
              "      <td>Human Resources</td>\n",
              "      <td>Married</td>\n",
              "      <td>83210</td>\n",
              "      <td>3.0</td>\n",
              "      <td>Y</td>\n",
              "      <td>11</td>\n",
              "      <td>8</td>\n",
              "      <td>3</td>\n",
              "      <td>13.0</td>\n",
              "      <td>5</td>\n",
              "      <td>8</td>\n",
              "      <td>7</td>\n",
              "      <td>5</td>\n",
              "    </tr>\n",
              "    <tr>\n",
              "      <th>4</th>\n",
              "      <td>32</td>\n",
              "      <td>No</td>\n",
              "      <td>Travel_Rarely</td>\n",
              "      <td>Research &amp; Development</td>\n",
              "      <td>10</td>\n",
              "      <td>1</td>\n",
              "      <td>Medical</td>\n",
              "      <td>1</td>\n",
              "      <td>5</td>\n",
              "      <td>Male</td>\n",
              "      <td>1</td>\n",
              "      <td>Sales Executive</td>\n",
              "      <td>Single</td>\n",
              "      <td>23420</td>\n",
              "      <td>4.0</td>\n",
              "      <td>Y</td>\n",
              "      <td>12</td>\n",
              "      <td>8</td>\n",
              "      <td>2</td>\n",
              "      <td>9.0</td>\n",
              "      <td>2</td>\n",
              "      <td>6</td>\n",
              "      <td>0</td>\n",
              "      <td>4</td>\n",
              "    </tr>\n",
              "  </tbody>\n",
              "</table>\n",
              "</div>"
            ],
            "text/plain": [
              "   Age Attrition  ... YearsSinceLastPromotion YearsWithCurrManager\n",
              "0   51        No  ...                       0                    0\n",
              "1   31       Yes  ...                       1                    4\n",
              "2   32        No  ...                       0                    3\n",
              "3   38        No  ...                       7                    5\n",
              "4   32        No  ...                       0                    4\n",
              "\n",
              "[5 rows x 24 columns]"
            ]
          },
          "metadata": {
            "tags": []
          },
          "execution_count": 49
        }
      ]
    },
    {
      "cell_type": "code",
      "metadata": {
        "colab": {
          "base_uri": "https://localhost:8080/"
        },
        "id": "wv8PBh2dAsHN",
        "outputId": "219dfbd2-633e-412e-c5ae-18f9258f54f6"
      },
      "source": [
        "cols = general_data.columns.tolist()\n",
        "cols.remove('Attrition')\n",
        "print(cols)"
      ],
      "execution_count": null,
      "outputs": [
        {
          "output_type": "stream",
          "text": [
            "['Age', 'BusinessTravel', 'Department', 'DistanceFromHome', 'Education', 'EducationField', 'EmployeeCount', 'EmployeeID', 'Gender', 'JobLevel', 'JobRole', 'MaritalStatus', 'MonthlyIncome', 'NumCompaniesWorked', 'Over18', 'PercentSalaryHike', 'StandardHours', 'StockOptionLevel', 'TotalWorkingYears', 'TrainingTimesLastYear', 'YearsAtCompany', 'YearsSinceLastPromotion', 'YearsWithCurrManager']\n"
          ],
          "name": "stdout"
        }
      ]
    },
    {
      "cell_type": "code",
      "metadata": {
        "id": "HEXVqK7pAFys"
      },
      "source": [
        "categorical_cols = ['BusinessTravel', 'Department', 'EducationField', 'Gender', 'JobRole', 'MaritalStatus', 'Over18', ]\n",
        "X = general_data[cols]\n",
        "y = general_data['Attrition']"
      ],
      "execution_count": null,
      "outputs": []
    },
    {
      "cell_type": "code",
      "metadata": {
        "id": "zal3q6P6_HXV"
      },
      "source": [
        "from sklearn.model_selection import train_test_split\n",
        "X_train, X_test, y_train, y_test = train_test_split(X, y, test_size = 0.25, random_state = 0)"
      ],
      "execution_count": null,
      "outputs": []
    },
    {
      "cell_type": "markdown",
      "metadata": {
        "id": "yAHDfETUCUYf"
      },
      "source": [
        "## Encoding Categorical Data"
      ]
    },
    {
      "cell_type": "code",
      "metadata": {
        "colab": {
          "base_uri": "https://localhost:8080/"
        },
        "id": "K8NlrlE2CXa3",
        "outputId": "31039e7a-8bcd-42ca-e25c-678d42136ec3"
      },
      "source": [
        "!pip install category_encoders\n",
        "import category_encoders as ce"
      ],
      "execution_count": null,
      "outputs": [
        {
          "output_type": "stream",
          "text": [
            "Collecting category_encoders\n",
            "\u001b[?25l  Downloading https://files.pythonhosted.org/packages/44/57/fcef41c248701ee62e8325026b90c432adea35555cbc870aff9cfba23727/category_encoders-2.2.2-py2.py3-none-any.whl (80kB)\n",
            "\r\u001b[K     |████                            | 10kB 15.5MB/s eta 0:00:01\r\u001b[K     |████████▏                       | 20kB 22.1MB/s eta 0:00:01\r\u001b[K     |████████████▏                   | 30kB 22.0MB/s eta 0:00:01\r\u001b[K     |████████████████▎               | 40kB 18.4MB/s eta 0:00:01\r\u001b[K     |████████████████████▎           | 51kB 20.8MB/s eta 0:00:01\r\u001b[K     |████████████████████████▍       | 61kB 15.6MB/s eta 0:00:01\r\u001b[K     |████████████████████████████▍   | 71kB 16.8MB/s eta 0:00:01\r\u001b[K     |████████████████████████████████| 81kB 6.2MB/s \n",
            "\u001b[?25hRequirement already satisfied: scipy>=1.0.0 in /usr/local/lib/python3.7/dist-packages (from category_encoders) (1.4.1)\n",
            "Requirement already satisfied: patsy>=0.5.1 in /usr/local/lib/python3.7/dist-packages (from category_encoders) (0.5.1)\n",
            "Requirement already satisfied: numpy>=1.14.0 in /usr/local/lib/python3.7/dist-packages (from category_encoders) (1.19.5)\n",
            "Requirement already satisfied: scikit-learn>=0.20.0 in /usr/local/lib/python3.7/dist-packages (from category_encoders) (0.22.2.post1)\n",
            "Requirement already satisfied: pandas>=0.21.1 in /usr/local/lib/python3.7/dist-packages (from category_encoders) (1.1.5)\n",
            "Requirement already satisfied: statsmodels>=0.9.0 in /usr/local/lib/python3.7/dist-packages (from category_encoders) (0.10.2)\n",
            "Requirement already satisfied: six in /usr/local/lib/python3.7/dist-packages (from patsy>=0.5.1->category_encoders) (1.15.0)\n",
            "Requirement already satisfied: joblib>=0.11 in /usr/local/lib/python3.7/dist-packages (from scikit-learn>=0.20.0->category_encoders) (1.0.1)\n",
            "Requirement already satisfied: pytz>=2017.2 in /usr/local/lib/python3.7/dist-packages (from pandas>=0.21.1->category_encoders) (2018.9)\n",
            "Requirement already satisfied: python-dateutil>=2.7.3 in /usr/local/lib/python3.7/dist-packages (from pandas>=0.21.1->category_encoders) (2.8.1)\n",
            "Installing collected packages: category-encoders\n",
            "Successfully installed category-encoders-2.2.2\n"
          ],
          "name": "stdout"
        },
        {
          "output_type": "stream",
          "text": [
            "/usr/local/lib/python3.7/dist-packages/statsmodels/tools/_testing.py:19: FutureWarning: pandas.util.testing is deprecated. Use the functions in the public API at pandas.testing instead.\n",
            "  import pandas.util.testing as tm\n"
          ],
          "name": "stderr"
        }
      ]
    },
    {
      "cell_type": "code",
      "metadata": {
        "colab": {
          "base_uri": "https://localhost:8080/",
          "height": 291
        },
        "id": "jLCBkBCNCZEO",
        "outputId": "07bef428-729c-4d84-ef67-acad32054598"
      },
      "source": [
        "encoder = ce.OneHotEncoder(cols=categorical_cols)\n",
        "X_train = encoder.fit_transform(X_train)\n",
        "X_test = encoder.fit_transform(X_test)\n",
        "X_train.head()"
      ],
      "execution_count": null,
      "outputs": [
        {
          "output_type": "stream",
          "text": [
            "/usr/local/lib/python3.7/dist-packages/category_encoders/utils.py:21: FutureWarning: is_categorical is deprecated and will be removed in a future version.  Use is_categorical_dtype instead\n",
            "  elif pd.api.types.is_categorical(cols):\n",
            "/usr/local/lib/python3.7/dist-packages/category_encoders/utils.py:21: FutureWarning: is_categorical is deprecated and will be removed in a future version.  Use is_categorical_dtype instead\n",
            "  elif pd.api.types.is_categorical(cols):\n"
          ],
          "name": "stderr"
        },
        {
          "output_type": "execute_result",
          "data": {
            "text/html": [
              "<div>\n",
              "<style scoped>\n",
              "    .dataframe tbody tr th:only-of-type {\n",
              "        vertical-align: middle;\n",
              "    }\n",
              "\n",
              "    .dataframe tbody tr th {\n",
              "        vertical-align: top;\n",
              "    }\n",
              "\n",
              "    .dataframe thead th {\n",
              "        text-align: right;\n",
              "    }\n",
              "</style>\n",
              "<table border=\"1\" class=\"dataframe\">\n",
              "  <thead>\n",
              "    <tr style=\"text-align: right;\">\n",
              "      <th></th>\n",
              "      <th>Age</th>\n",
              "      <th>BusinessTravel_1</th>\n",
              "      <th>BusinessTravel_2</th>\n",
              "      <th>BusinessTravel_3</th>\n",
              "      <th>Department_1</th>\n",
              "      <th>Department_2</th>\n",
              "      <th>Department_3</th>\n",
              "      <th>DistanceFromHome</th>\n",
              "      <th>Education</th>\n",
              "      <th>EducationField_1</th>\n",
              "      <th>EducationField_2</th>\n",
              "      <th>EducationField_3</th>\n",
              "      <th>EducationField_4</th>\n",
              "      <th>EducationField_5</th>\n",
              "      <th>EducationField_6</th>\n",
              "      <th>EmployeeCount</th>\n",
              "      <th>EmployeeID</th>\n",
              "      <th>Gender_1</th>\n",
              "      <th>Gender_2</th>\n",
              "      <th>JobLevel</th>\n",
              "      <th>JobRole_1</th>\n",
              "      <th>JobRole_2</th>\n",
              "      <th>JobRole_3</th>\n",
              "      <th>JobRole_4</th>\n",
              "      <th>JobRole_5</th>\n",
              "      <th>JobRole_6</th>\n",
              "      <th>JobRole_7</th>\n",
              "      <th>JobRole_8</th>\n",
              "      <th>JobRole_9</th>\n",
              "      <th>MaritalStatus_1</th>\n",
              "      <th>MaritalStatus_2</th>\n",
              "      <th>MaritalStatus_3</th>\n",
              "      <th>MonthlyIncome</th>\n",
              "      <th>NumCompaniesWorked</th>\n",
              "      <th>Over18_1</th>\n",
              "      <th>PercentSalaryHike</th>\n",
              "      <th>StandardHours</th>\n",
              "      <th>StockOptionLevel</th>\n",
              "      <th>TotalWorkingYears</th>\n",
              "      <th>TrainingTimesLastYear</th>\n",
              "      <th>YearsAtCompany</th>\n",
              "      <th>YearsSinceLastPromotion</th>\n",
              "      <th>YearsWithCurrManager</th>\n",
              "    </tr>\n",
              "  </thead>\n",
              "  <tbody>\n",
              "    <tr>\n",
              "      <th>2736</th>\n",
              "      <td>26</td>\n",
              "      <td>1</td>\n",
              "      <td>0</td>\n",
              "      <td>0</td>\n",
              "      <td>1</td>\n",
              "      <td>0</td>\n",
              "      <td>0</td>\n",
              "      <td>4</td>\n",
              "      <td>4</td>\n",
              "      <td>1</td>\n",
              "      <td>0</td>\n",
              "      <td>0</td>\n",
              "      <td>0</td>\n",
              "      <td>0</td>\n",
              "      <td>0</td>\n",
              "      <td>1</td>\n",
              "      <td>2737</td>\n",
              "      <td>1</td>\n",
              "      <td>0</td>\n",
              "      <td>3</td>\n",
              "      <td>1</td>\n",
              "      <td>0</td>\n",
              "      <td>0</td>\n",
              "      <td>0</td>\n",
              "      <td>0</td>\n",
              "      <td>0</td>\n",
              "      <td>0</td>\n",
              "      <td>0</td>\n",
              "      <td>0</td>\n",
              "      <td>1</td>\n",
              "      <td>0</td>\n",
              "      <td>0</td>\n",
              "      <td>47890</td>\n",
              "      <td>7.0</td>\n",
              "      <td>1</td>\n",
              "      <td>20</td>\n",
              "      <td>8</td>\n",
              "      <td>1</td>\n",
              "      <td>5.0</td>\n",
              "      <td>2</td>\n",
              "      <td>2</td>\n",
              "      <td>0</td>\n",
              "      <td>0</td>\n",
              "    </tr>\n",
              "    <tr>\n",
              "      <th>1800</th>\n",
              "      <td>50</td>\n",
              "      <td>1</td>\n",
              "      <td>0</td>\n",
              "      <td>0</td>\n",
              "      <td>1</td>\n",
              "      <td>0</td>\n",
              "      <td>0</td>\n",
              "      <td>8</td>\n",
              "      <td>4</td>\n",
              "      <td>1</td>\n",
              "      <td>0</td>\n",
              "      <td>0</td>\n",
              "      <td>0</td>\n",
              "      <td>0</td>\n",
              "      <td>0</td>\n",
              "      <td>1</td>\n",
              "      <td>1801</td>\n",
              "      <td>0</td>\n",
              "      <td>1</td>\n",
              "      <td>2</td>\n",
              "      <td>1</td>\n",
              "      <td>0</td>\n",
              "      <td>0</td>\n",
              "      <td>0</td>\n",
              "      <td>0</td>\n",
              "      <td>0</td>\n",
              "      <td>0</td>\n",
              "      <td>0</td>\n",
              "      <td>0</td>\n",
              "      <td>1</td>\n",
              "      <td>0</td>\n",
              "      <td>0</td>\n",
              "      <td>49410</td>\n",
              "      <td>5.0</td>\n",
              "      <td>1</td>\n",
              "      <td>11</td>\n",
              "      <td>8</td>\n",
              "      <td>1</td>\n",
              "      <td>30.0</td>\n",
              "      <td>3</td>\n",
              "      <td>4</td>\n",
              "      <td>0</td>\n",
              "      <td>3</td>\n",
              "    </tr>\n",
              "    <tr>\n",
              "      <th>4173</th>\n",
              "      <td>36</td>\n",
              "      <td>1</td>\n",
              "      <td>0</td>\n",
              "      <td>0</td>\n",
              "      <td>1</td>\n",
              "      <td>0</td>\n",
              "      <td>0</td>\n",
              "      <td>1</td>\n",
              "      <td>3</td>\n",
              "      <td>1</td>\n",
              "      <td>0</td>\n",
              "      <td>0</td>\n",
              "      <td>0</td>\n",
              "      <td>0</td>\n",
              "      <td>0</td>\n",
              "      <td>1</td>\n",
              "      <td>4174</td>\n",
              "      <td>0</td>\n",
              "      <td>1</td>\n",
              "      <td>1</td>\n",
              "      <td>0</td>\n",
              "      <td>1</td>\n",
              "      <td>0</td>\n",
              "      <td>0</td>\n",
              "      <td>0</td>\n",
              "      <td>0</td>\n",
              "      <td>0</td>\n",
              "      <td>0</td>\n",
              "      <td>0</td>\n",
              "      <td>0</td>\n",
              "      <td>1</td>\n",
              "      <td>0</td>\n",
              "      <td>54860</td>\n",
              "      <td>7.0</td>\n",
              "      <td>1</td>\n",
              "      <td>12</td>\n",
              "      <td>8</td>\n",
              "      <td>1</td>\n",
              "      <td>10.0</td>\n",
              "      <td>2</td>\n",
              "      <td>5</td>\n",
              "      <td>0</td>\n",
              "      <td>3</td>\n",
              "    </tr>\n",
              "    <tr>\n",
              "      <th>2615</th>\n",
              "      <td>39</td>\n",
              "      <td>1</td>\n",
              "      <td>0</td>\n",
              "      <td>0</td>\n",
              "      <td>1</td>\n",
              "      <td>0</td>\n",
              "      <td>0</td>\n",
              "      <td>4</td>\n",
              "      <td>3</td>\n",
              "      <td>1</td>\n",
              "      <td>0</td>\n",
              "      <td>0</td>\n",
              "      <td>0</td>\n",
              "      <td>0</td>\n",
              "      <td>0</td>\n",
              "      <td>1</td>\n",
              "      <td>2616</td>\n",
              "      <td>0</td>\n",
              "      <td>1</td>\n",
              "      <td>2</td>\n",
              "      <td>1</td>\n",
              "      <td>0</td>\n",
              "      <td>0</td>\n",
              "      <td>0</td>\n",
              "      <td>0</td>\n",
              "      <td>0</td>\n",
              "      <td>0</td>\n",
              "      <td>0</td>\n",
              "      <td>0</td>\n",
              "      <td>0</td>\n",
              "      <td>1</td>\n",
              "      <td>0</td>\n",
              "      <td>98520</td>\n",
              "      <td>0.0</td>\n",
              "      <td>1</td>\n",
              "      <td>12</td>\n",
              "      <td>8</td>\n",
              "      <td>1</td>\n",
              "      <td>21.0</td>\n",
              "      <td>5</td>\n",
              "      <td>20</td>\n",
              "      <td>11</td>\n",
              "      <td>10</td>\n",
              "    </tr>\n",
              "    <tr>\n",
              "      <th>1775</th>\n",
              "      <td>25</td>\n",
              "      <td>1</td>\n",
              "      <td>0</td>\n",
              "      <td>0</td>\n",
              "      <td>1</td>\n",
              "      <td>0</td>\n",
              "      <td>0</td>\n",
              "      <td>8</td>\n",
              "      <td>3</td>\n",
              "      <td>1</td>\n",
              "      <td>0</td>\n",
              "      <td>0</td>\n",
              "      <td>0</td>\n",
              "      <td>0</td>\n",
              "      <td>0</td>\n",
              "      <td>1</td>\n",
              "      <td>1776</td>\n",
              "      <td>0</td>\n",
              "      <td>1</td>\n",
              "      <td>2</td>\n",
              "      <td>0</td>\n",
              "      <td>0</td>\n",
              "      <td>1</td>\n",
              "      <td>0</td>\n",
              "      <td>0</td>\n",
              "      <td>0</td>\n",
              "      <td>0</td>\n",
              "      <td>0</td>\n",
              "      <td>0</td>\n",
              "      <td>0</td>\n",
              "      <td>1</td>\n",
              "      <td>0</td>\n",
              "      <td>74840</td>\n",
              "      <td>1.0</td>\n",
              "      <td>1</td>\n",
              "      <td>15</td>\n",
              "      <td>8</td>\n",
              "      <td>0</td>\n",
              "      <td>6.0</td>\n",
              "      <td>3</td>\n",
              "      <td>6</td>\n",
              "      <td>1</td>\n",
              "      <td>4</td>\n",
              "    </tr>\n",
              "  </tbody>\n",
              "</table>\n",
              "</div>"
            ],
            "text/plain": [
              "      Age  BusinessTravel_1  ...  YearsSinceLastPromotion  YearsWithCurrManager\n",
              "2736   26                 1  ...                        0                     0\n",
              "1800   50                 1  ...                        0                     3\n",
              "4173   36                 1  ...                        0                     3\n",
              "2615   39                 1  ...                       11                    10\n",
              "1775   25                 1  ...                        1                     4\n",
              "\n",
              "[5 rows x 43 columns]"
            ]
          },
          "metadata": {
            "tags": []
          },
          "execution_count": 54
        }
      ]
    },
    {
      "cell_type": "code",
      "metadata": {
        "colab": {
          "base_uri": "https://localhost:8080/",
          "height": 257
        },
        "id": "uxw5ADenGtYi",
        "outputId": "ab788a1d-4f5c-46b1-df9f-f45ed53c7111"
      },
      "source": [
        "encoder = ce.OneHotEncoder(cols=['Attrition'])\n",
        "y_train = encoder.fit_transform(y_train)\n",
        "y_train.head()"
      ],
      "execution_count": null,
      "outputs": [
        {
          "output_type": "stream",
          "text": [
            "/usr/local/lib/python3.7/dist-packages/category_encoders/utils.py:21: FutureWarning: is_categorical is deprecated and will be removed in a future version.  Use is_categorical_dtype instead\n",
            "  elif pd.api.types.is_categorical(cols):\n"
          ],
          "name": "stderr"
        },
        {
          "output_type": "execute_result",
          "data": {
            "text/html": [
              "<div>\n",
              "<style scoped>\n",
              "    .dataframe tbody tr th:only-of-type {\n",
              "        vertical-align: middle;\n",
              "    }\n",
              "\n",
              "    .dataframe tbody tr th {\n",
              "        vertical-align: top;\n",
              "    }\n",
              "\n",
              "    .dataframe thead th {\n",
              "        text-align: right;\n",
              "    }\n",
              "</style>\n",
              "<table border=\"1\" class=\"dataframe\">\n",
              "  <thead>\n",
              "    <tr style=\"text-align: right;\">\n",
              "      <th></th>\n",
              "      <th>Attrition_1</th>\n",
              "      <th>Attrition_2</th>\n",
              "    </tr>\n",
              "  </thead>\n",
              "  <tbody>\n",
              "    <tr>\n",
              "      <th>2736</th>\n",
              "      <td>1</td>\n",
              "      <td>0</td>\n",
              "    </tr>\n",
              "    <tr>\n",
              "      <th>1800</th>\n",
              "      <td>1</td>\n",
              "      <td>0</td>\n",
              "    </tr>\n",
              "    <tr>\n",
              "      <th>4173</th>\n",
              "      <td>0</td>\n",
              "      <td>1</td>\n",
              "    </tr>\n",
              "    <tr>\n",
              "      <th>2615</th>\n",
              "      <td>1</td>\n",
              "      <td>0</td>\n",
              "    </tr>\n",
              "    <tr>\n",
              "      <th>1775</th>\n",
              "      <td>1</td>\n",
              "      <td>0</td>\n",
              "    </tr>\n",
              "  </tbody>\n",
              "</table>\n",
              "</div>"
            ],
            "text/plain": [
              "      Attrition_1  Attrition_2\n",
              "2736            1            0\n",
              "1800            1            0\n",
              "4173            0            1\n",
              "2615            1            0\n",
              "1775            1            0"
            ]
          },
          "metadata": {
            "tags": []
          },
          "execution_count": 55
        }
      ]
    },
    {
      "cell_type": "code",
      "metadata": {
        "colab": {
          "base_uri": "https://localhost:8080/",
          "height": 202
        },
        "id": "_ZTfTKShHWRQ",
        "outputId": "7ee267bd-2041-464a-d206-d7d398d59516"
      },
      "source": [
        "del y_train[\"Attrition_2\"]\n",
        "y_train.head()"
      ],
      "execution_count": null,
      "outputs": [
        {
          "output_type": "execute_result",
          "data": {
            "text/html": [
              "<div>\n",
              "<style scoped>\n",
              "    .dataframe tbody tr th:only-of-type {\n",
              "        vertical-align: middle;\n",
              "    }\n",
              "\n",
              "    .dataframe tbody tr th {\n",
              "        vertical-align: top;\n",
              "    }\n",
              "\n",
              "    .dataframe thead th {\n",
              "        text-align: right;\n",
              "    }\n",
              "</style>\n",
              "<table border=\"1\" class=\"dataframe\">\n",
              "  <thead>\n",
              "    <tr style=\"text-align: right;\">\n",
              "      <th></th>\n",
              "      <th>Attrition_1</th>\n",
              "    </tr>\n",
              "  </thead>\n",
              "  <tbody>\n",
              "    <tr>\n",
              "      <th>2736</th>\n",
              "      <td>1</td>\n",
              "    </tr>\n",
              "    <tr>\n",
              "      <th>1800</th>\n",
              "      <td>1</td>\n",
              "    </tr>\n",
              "    <tr>\n",
              "      <th>4173</th>\n",
              "      <td>0</td>\n",
              "    </tr>\n",
              "    <tr>\n",
              "      <th>2615</th>\n",
              "      <td>1</td>\n",
              "    </tr>\n",
              "    <tr>\n",
              "      <th>1775</th>\n",
              "      <td>1</td>\n",
              "    </tr>\n",
              "  </tbody>\n",
              "</table>\n",
              "</div>"
            ],
            "text/plain": [
              "      Attrition_1\n",
              "2736            1\n",
              "1800            1\n",
              "4173            0\n",
              "2615            1\n",
              "1775            1"
            ]
          },
          "metadata": {
            "tags": []
          },
          "execution_count": 56
        }
      ]
    },
    {
      "cell_type": "markdown",
      "metadata": {
        "id": "uBTCnemqCtA5"
      },
      "source": [
        "## Feature Scaling"
      ]
    },
    {
      "cell_type": "code",
      "metadata": {
        "id": "5vxZfj_jCsMJ"
      },
      "source": [
        "cols = X_train.columns"
      ],
      "execution_count": null,
      "outputs": []
    },
    {
      "cell_type": "code",
      "metadata": {
        "id": "UMSx1JxECysA"
      },
      "source": [
        "from sklearn.preprocessing import StandardScaler\n",
        "sc = StandardScaler()\n",
        "X_train = sc.fit_transform(X_train)\n",
        "X_test = sc.transform(X_test)"
      ],
      "execution_count": null,
      "outputs": []
    },
    {
      "cell_type": "code",
      "metadata": {
        "id": "40MbFXJGCzc7"
      },
      "source": [
        "X_train = pd.DataFrame(X_train, columns=[cols])\n",
        "X_test = pd.DataFrame(X_test, columns=[cols])"
      ],
      "execution_count": null,
      "outputs": []
    },
    {
      "cell_type": "code",
      "metadata": {
        "colab": {
          "base_uri": "https://localhost:8080/",
          "height": 222
        },
        "id": "uQLs1jMaCzvK",
        "outputId": "c0916074-c514-4ee8-96ed-59ef63c17da3"
      },
      "source": [
        "X_train.head()"
      ],
      "execution_count": null,
      "outputs": [
        {
          "output_type": "execute_result",
          "data": {
            "text/html": [
              "<div>\n",
              "<style scoped>\n",
              "    .dataframe tbody tr th:only-of-type {\n",
              "        vertical-align: middle;\n",
              "    }\n",
              "\n",
              "    .dataframe tbody tr th {\n",
              "        vertical-align: top;\n",
              "    }\n",
              "\n",
              "    .dataframe thead tr th {\n",
              "        text-align: left;\n",
              "    }\n",
              "</style>\n",
              "<table border=\"1\" class=\"dataframe\">\n",
              "  <thead>\n",
              "    <tr>\n",
              "      <th></th>\n",
              "      <th>Age</th>\n",
              "      <th>BusinessTravel_1</th>\n",
              "      <th>BusinessTravel_2</th>\n",
              "      <th>BusinessTravel_3</th>\n",
              "      <th>Department_1</th>\n",
              "      <th>Department_2</th>\n",
              "      <th>Department_3</th>\n",
              "      <th>DistanceFromHome</th>\n",
              "      <th>Education</th>\n",
              "      <th>EducationField_1</th>\n",
              "      <th>EducationField_2</th>\n",
              "      <th>EducationField_3</th>\n",
              "      <th>EducationField_4</th>\n",
              "      <th>EducationField_5</th>\n",
              "      <th>EducationField_6</th>\n",
              "      <th>EmployeeCount</th>\n",
              "      <th>EmployeeID</th>\n",
              "      <th>Gender_1</th>\n",
              "      <th>Gender_2</th>\n",
              "      <th>JobLevel</th>\n",
              "      <th>JobRole_1</th>\n",
              "      <th>JobRole_2</th>\n",
              "      <th>JobRole_3</th>\n",
              "      <th>JobRole_4</th>\n",
              "      <th>JobRole_5</th>\n",
              "      <th>JobRole_6</th>\n",
              "      <th>JobRole_7</th>\n",
              "      <th>JobRole_8</th>\n",
              "      <th>JobRole_9</th>\n",
              "      <th>MaritalStatus_1</th>\n",
              "      <th>MaritalStatus_2</th>\n",
              "      <th>MaritalStatus_3</th>\n",
              "      <th>MonthlyIncome</th>\n",
              "      <th>NumCompaniesWorked</th>\n",
              "      <th>Over18_1</th>\n",
              "      <th>PercentSalaryHike</th>\n",
              "      <th>StandardHours</th>\n",
              "      <th>StockOptionLevel</th>\n",
              "      <th>TotalWorkingYears</th>\n",
              "      <th>TrainingTimesLastYear</th>\n",
              "      <th>YearsAtCompany</th>\n",
              "      <th>YearsSinceLastPromotion</th>\n",
              "      <th>YearsWithCurrManager</th>\n",
              "    </tr>\n",
              "  </thead>\n",
              "  <tbody>\n",
              "    <tr>\n",
              "      <th>0</th>\n",
              "      <td>-1.189641</td>\n",
              "      <td>0.643783</td>\n",
              "      <td>-0.485117</td>\n",
              "      <td>-0.337962</td>\n",
              "      <td>0.727738</td>\n",
              "      <td>-0.654607</td>\n",
              "      <td>-0.220249</td>\n",
              "      <td>-0.652441</td>\n",
              "      <td>1.070798</td>\n",
              "      <td>1.192031</td>\n",
              "      <td>-0.674467</td>\n",
              "      <td>-0.312956</td>\n",
              "      <td>-0.246203</td>\n",
              "      <td>-0.144894</td>\n",
              "      <td>-0.346782</td>\n",
              "      <td>0.0</td>\n",
              "      <td>0.416086</td>\n",
              "      <td>1.213857</td>\n",
              "      <td>-1.213857</td>\n",
              "      <td>0.849244</td>\n",
              "      <td>1.864126</td>\n",
              "      <td>-0.235665</td>\n",
              "      <td>-0.493660</td>\n",
              "      <td>-0.339072</td>\n",
              "      <td>-0.465033</td>\n",
              "      <td>-0.310035</td>\n",
              "      <td>-0.268903</td>\n",
              "      <td>-0.243427</td>\n",
              "      <td>-0.193203</td>\n",
              "      <td>1.074429</td>\n",
              "      <td>-0.685403</td>\n",
              "      <td>-0.525213</td>\n",
              "      <td>-0.355311</td>\n",
              "      <td>1.704213</td>\n",
              "      <td>0.0</td>\n",
              "      <td>1.296098</td>\n",
              "      <td>0.0</td>\n",
              "      <td>0.244864</td>\n",
              "      <td>-0.800054</td>\n",
              "      <td>-0.636600</td>\n",
              "      <td>-0.799585</td>\n",
              "      <td>-0.674827</td>\n",
              "      <td>-1.142665</td>\n",
              "    </tr>\n",
              "    <tr>\n",
              "      <th>1</th>\n",
              "      <td>1.453237</td>\n",
              "      <td>0.643783</td>\n",
              "      <td>-0.485117</td>\n",
              "      <td>-0.337962</td>\n",
              "      <td>0.727738</td>\n",
              "      <td>-0.654607</td>\n",
              "      <td>-0.220249</td>\n",
              "      <td>-0.156436</td>\n",
              "      <td>1.070798</td>\n",
              "      <td>1.192031</td>\n",
              "      <td>-0.674467</td>\n",
              "      <td>-0.312956</td>\n",
              "      <td>-0.246203</td>\n",
              "      <td>-0.144894</td>\n",
              "      <td>-0.346782</td>\n",
              "      <td>0.0</td>\n",
              "      <td>-0.319174</td>\n",
              "      <td>-0.823820</td>\n",
              "      <td>0.823820</td>\n",
              "      <td>-0.059345</td>\n",
              "      <td>1.864126</td>\n",
              "      <td>-0.235665</td>\n",
              "      <td>-0.493660</td>\n",
              "      <td>-0.339072</td>\n",
              "      <td>-0.465033</td>\n",
              "      <td>-0.310035</td>\n",
              "      <td>-0.268903</td>\n",
              "      <td>-0.243427</td>\n",
              "      <td>-0.193203</td>\n",
              "      <td>1.074429</td>\n",
              "      <td>-0.685403</td>\n",
              "      <td>-0.525213</td>\n",
              "      <td>-0.322852</td>\n",
              "      <td>0.907600</td>\n",
              "      <td>0.0</td>\n",
              "      <td>-1.160800</td>\n",
              "      <td>0.0</td>\n",
              "      <td>0.244864</td>\n",
              "      <td>2.410201</td>\n",
              "      <td>0.144854</td>\n",
              "      <td>-0.476961</td>\n",
              "      <td>-0.674827</td>\n",
              "      <td>-0.296667</td>\n",
              "    </tr>\n",
              "    <tr>\n",
              "      <th>2</th>\n",
              "      <td>-0.088442</td>\n",
              "      <td>0.643783</td>\n",
              "      <td>-0.485117</td>\n",
              "      <td>-0.337962</td>\n",
              "      <td>0.727738</td>\n",
              "      <td>-0.654607</td>\n",
              "      <td>-0.220249</td>\n",
              "      <td>-1.024445</td>\n",
              "      <td>0.083861</td>\n",
              "      <td>1.192031</td>\n",
              "      <td>-0.674467</td>\n",
              "      <td>-0.312956</td>\n",
              "      <td>-0.246203</td>\n",
              "      <td>-0.144894</td>\n",
              "      <td>-0.346782</td>\n",
              "      <td>0.0</td>\n",
              "      <td>1.544898</td>\n",
              "      <td>-0.823820</td>\n",
              "      <td>0.823820</td>\n",
              "      <td>-0.967934</td>\n",
              "      <td>-0.536444</td>\n",
              "      <td>4.243318</td>\n",
              "      <td>-0.493660</td>\n",
              "      <td>-0.339072</td>\n",
              "      <td>-0.465033</td>\n",
              "      <td>-0.310035</td>\n",
              "      <td>-0.268903</td>\n",
              "      <td>-0.243427</td>\n",
              "      <td>-0.193203</td>\n",
              "      <td>-0.930727</td>\n",
              "      <td>1.458995</td>\n",
              "      <td>-0.525213</td>\n",
              "      <td>-0.206469</td>\n",
              "      <td>1.704213</td>\n",
              "      <td>0.0</td>\n",
              "      <td>-0.887812</td>\n",
              "      <td>0.0</td>\n",
              "      <td>0.244864</td>\n",
              "      <td>-0.158003</td>\n",
              "      <td>-0.636600</td>\n",
              "      <td>-0.315649</td>\n",
              "      <td>-0.674827</td>\n",
              "      <td>-0.296667</td>\n",
              "    </tr>\n",
              "    <tr>\n",
              "      <th>3</th>\n",
              "      <td>0.241918</td>\n",
              "      <td>0.643783</td>\n",
              "      <td>-0.485117</td>\n",
              "      <td>-0.337962</td>\n",
              "      <td>0.727738</td>\n",
              "      <td>-0.654607</td>\n",
              "      <td>-0.220249</td>\n",
              "      <td>-0.652441</td>\n",
              "      <td>0.083861</td>\n",
              "      <td>1.192031</td>\n",
              "      <td>-0.674467</td>\n",
              "      <td>-0.312956</td>\n",
              "      <td>-0.246203</td>\n",
              "      <td>-0.144894</td>\n",
              "      <td>-0.346782</td>\n",
              "      <td>0.0</td>\n",
              "      <td>0.321036</td>\n",
              "      <td>-0.823820</td>\n",
              "      <td>0.823820</td>\n",
              "      <td>-0.059345</td>\n",
              "      <td>1.864126</td>\n",
              "      <td>-0.235665</td>\n",
              "      <td>-0.493660</td>\n",
              "      <td>-0.339072</td>\n",
              "      <td>-0.465033</td>\n",
              "      <td>-0.310035</td>\n",
              "      <td>-0.268903</td>\n",
              "      <td>-0.243427</td>\n",
              "      <td>-0.193203</td>\n",
              "      <td>-0.930727</td>\n",
              "      <td>1.458995</td>\n",
              "      <td>-0.525213</td>\n",
              "      <td>0.725871</td>\n",
              "      <td>-1.083931</td>\n",
              "      <td>0.0</td>\n",
              "      <td>-0.887812</td>\n",
              "      <td>0.0</td>\n",
              "      <td>0.244864</td>\n",
              "      <td>1.254509</td>\n",
              "      <td>1.707760</td>\n",
              "      <td>2.104032</td>\n",
              "      <td>2.730859</td>\n",
              "      <td>1.677330</td>\n",
              "    </tr>\n",
              "    <tr>\n",
              "      <th>4</th>\n",
              "      <td>-1.299761</td>\n",
              "      <td>0.643783</td>\n",
              "      <td>-0.485117</td>\n",
              "      <td>-0.337962</td>\n",
              "      <td>0.727738</td>\n",
              "      <td>-0.654607</td>\n",
              "      <td>-0.220249</td>\n",
              "      <td>-0.156436</td>\n",
              "      <td>0.083861</td>\n",
              "      <td>1.192031</td>\n",
              "      <td>-0.674467</td>\n",
              "      <td>-0.312956</td>\n",
              "      <td>-0.246203</td>\n",
              "      <td>-0.144894</td>\n",
              "      <td>-0.346782</td>\n",
              "      <td>0.0</td>\n",
              "      <td>-0.338812</td>\n",
              "      <td>-0.823820</td>\n",
              "      <td>0.823820</td>\n",
              "      <td>-0.059345</td>\n",
              "      <td>-0.536444</td>\n",
              "      <td>-0.235665</td>\n",
              "      <td>2.025684</td>\n",
              "      <td>-0.339072</td>\n",
              "      <td>-0.465033</td>\n",
              "      <td>-0.310035</td>\n",
              "      <td>-0.268903</td>\n",
              "      <td>-0.243427</td>\n",
              "      <td>-0.193203</td>\n",
              "      <td>-0.930727</td>\n",
              "      <td>1.458995</td>\n",
              "      <td>-0.525213</td>\n",
              "      <td>0.220195</td>\n",
              "      <td>-0.685625</td>\n",
              "      <td>0.0</td>\n",
              "      <td>-0.068846</td>\n",
              "      <td>0.0</td>\n",
              "      <td>-0.933835</td>\n",
              "      <td>-0.671644</td>\n",
              "      <td>0.144854</td>\n",
              "      <td>-0.154337</td>\n",
              "      <td>-0.365219</td>\n",
              "      <td>-0.014667</td>\n",
              "    </tr>\n",
              "  </tbody>\n",
              "</table>\n",
              "</div>"
            ],
            "text/plain": [
              "        Age BusinessTravel_1  ... YearsSinceLastPromotion YearsWithCurrManager\n",
              "0 -1.189641         0.643783  ...               -0.674827            -1.142665\n",
              "1  1.453237         0.643783  ...               -0.674827            -0.296667\n",
              "2 -0.088442         0.643783  ...               -0.674827            -0.296667\n",
              "3  0.241918         0.643783  ...                2.730859             1.677330\n",
              "4 -1.299761         0.643783  ...               -0.365219            -0.014667\n",
              "\n",
              "[5 rows x 43 columns]"
            ]
          },
          "metadata": {
            "tags": []
          },
          "execution_count": 60
        }
      ]
    },
    {
      "cell_type": "code",
      "metadata": {
        "colab": {
          "base_uri": "https://localhost:8080/"
        },
        "id": "4bSQyYa5C_XW",
        "outputId": "a67aa873-15a5-47b9-876d-c91250e10158"
      },
      "source": [
        "X_train.isnull().values.any()"
      ],
      "execution_count": null,
      "outputs": [
        {
          "output_type": "execute_result",
          "data": {
            "text/plain": [
              "False"
            ]
          },
          "metadata": {
            "tags": []
          },
          "execution_count": 61
        }
      ]
    },
    {
      "cell_type": "code",
      "metadata": {
        "colab": {
          "base_uri": "https://localhost:8080/"
        },
        "id": "Ki7H8vUrDB6D",
        "outputId": "4df2e683-1d2d-4c67-8d7e-33c14a99592c"
      },
      "source": [
        "X_train.columns[X_train.isna().any()].tolist()"
      ],
      "execution_count": null,
      "outputs": [
        {
          "output_type": "execute_result",
          "data": {
            "text/plain": [
              "[]"
            ]
          },
          "metadata": {
            "tags": []
          },
          "execution_count": 62
        }
      ]
    },
    {
      "cell_type": "markdown",
      "metadata": {
        "id": "Xknx7SsqDadR"
      },
      "source": [
        "# Training the model"
      ]
    },
    {
      "cell_type": "markdown",
      "metadata": {
        "id": "mad_u_cGVLBI"
      },
      "source": [
        "##Applying Logistic Regression"
      ]
    },
    {
      "cell_type": "code",
      "metadata": {
        "colab": {
          "base_uri": "https://localhost:8080/"
        },
        "id": "VFA3onekDrkZ",
        "outputId": "f44b1a4a-f645-428a-ee76-9d648c8e870a"
      },
      "source": [
        "from sklearn.linear_model import LogisticRegression\n",
        "classifier = LogisticRegression(random_state = 0)\n",
        "classifier.fit(X_train, y_train)"
      ],
      "execution_count": null,
      "outputs": [
        {
          "output_type": "stream",
          "text": [
            "/usr/local/lib/python3.7/dist-packages/sklearn/utils/validation.py:760: DataConversionWarning: A column-vector y was passed when a 1d array was expected. Please change the shape of y to (n_samples, ), for example using ravel().\n",
            "  y = column_or_1d(y, warn=True)\n"
          ],
          "name": "stderr"
        },
        {
          "output_type": "execute_result",
          "data": {
            "text/plain": [
              "LogisticRegression(C=1.0, class_weight=None, dual=False, fit_intercept=True,\n",
              "                   intercept_scaling=1, l1_ratio=None, max_iter=100,\n",
              "                   multi_class='auto', n_jobs=None, penalty='l2',\n",
              "                   random_state=0, solver='lbfgs', tol=0.0001, verbose=0,\n",
              "                   warm_start=False)"
            ]
          },
          "metadata": {
            "tags": []
          },
          "execution_count": 63
        }
      ]
    },
    {
      "cell_type": "markdown",
      "metadata": {
        "id": "po3iJuYjH1Fi"
      },
      "source": [
        "# Predictions\n",
        "Accuracy metrics used:\n",
        "\n",
        "\n",
        "1.   Accuracy Score\n",
        "2.   Confusion Matrix\n",
        "3.   Classification Report\n",
        "\n"
      ]
    },
    {
      "cell_type": "code",
      "metadata": {
        "colab": {
          "base_uri": "https://localhost:8080/"
        },
        "id": "Ek4YnAxlDy-H",
        "outputId": "6fa27e1c-fd2f-417a-f994-ee8e40935d34"
      },
      "source": [
        "encoder = ce.OneHotEncoder(cols=['Attrition'])\n",
        "y_test = encoder.fit_transform(y_test)"
      ],
      "execution_count": null,
      "outputs": [
        {
          "output_type": "stream",
          "text": [
            "/usr/local/lib/python3.7/dist-packages/category_encoders/utils.py:21: FutureWarning: is_categorical is deprecated and will be removed in a future version.  Use is_categorical_dtype instead\n",
            "  elif pd.api.types.is_categorical(cols):\n"
          ],
          "name": "stderr"
        }
      ]
    },
    {
      "cell_type": "code",
      "metadata": {
        "colab": {
          "base_uri": "https://localhost:8080/",
          "height": 202
        },
        "id": "mm1JyFJQDzOG",
        "outputId": "16a15a67-d4af-42ec-8bc9-317006d1a584"
      },
      "source": [
        "del y_test[\"Attrition_2\"]\n",
        "y_test.head()"
      ],
      "execution_count": null,
      "outputs": [
        {
          "output_type": "execute_result",
          "data": {
            "text/html": [
              "<div>\n",
              "<style scoped>\n",
              "    .dataframe tbody tr th:only-of-type {\n",
              "        vertical-align: middle;\n",
              "    }\n",
              "\n",
              "    .dataframe tbody tr th {\n",
              "        vertical-align: top;\n",
              "    }\n",
              "\n",
              "    .dataframe thead th {\n",
              "        text-align: right;\n",
              "    }\n",
              "</style>\n",
              "<table border=\"1\" class=\"dataframe\">\n",
              "  <thead>\n",
              "    <tr style=\"text-align: right;\">\n",
              "      <th></th>\n",
              "      <th>Attrition_1</th>\n",
              "    </tr>\n",
              "  </thead>\n",
              "  <tbody>\n",
              "    <tr>\n",
              "      <th>1567</th>\n",
              "      <td>1</td>\n",
              "    </tr>\n",
              "    <tr>\n",
              "      <th>683</th>\n",
              "      <td>1</td>\n",
              "    </tr>\n",
              "    <tr>\n",
              "      <th>117</th>\n",
              "      <td>1</td>\n",
              "    </tr>\n",
              "    <tr>\n",
              "      <th>1581</th>\n",
              "      <td>1</td>\n",
              "    </tr>\n",
              "    <tr>\n",
              "      <th>3861</th>\n",
              "      <td>1</td>\n",
              "    </tr>\n",
              "  </tbody>\n",
              "</table>\n",
              "</div>"
            ],
            "text/plain": [
              "      Attrition_1\n",
              "1567            1\n",
              "683             1\n",
              "117             1\n",
              "1581            1\n",
              "3861            1"
            ]
          },
          "metadata": {
            "tags": []
          },
          "execution_count": 65
        }
      ]
    },
    {
      "cell_type": "code",
      "metadata": {
        "colab": {
          "base_uri": "https://localhost:8080/"
        },
        "id": "UwQXHzZSDzeZ",
        "outputId": "7cd4c69d-2b29-4b62-dd3b-eb5953b98fae"
      },
      "source": [
        "y_pred = classifier.predict(X_test)\n",
        "y_pred_train = classifier.predict(X_train)\n",
        "y_pred"
      ],
      "execution_count": null,
      "outputs": [
        {
          "output_type": "execute_result",
          "data": {
            "text/plain": [
              "array([1, 1, 1, ..., 1, 1, 1])"
            ]
          },
          "metadata": {
            "tags": []
          },
          "execution_count": 66
        }
      ]
    },
    {
      "cell_type": "markdown",
      "metadata": {
        "id": "atfjIlx-pgOS"
      },
      "source": [
        "##Accuracy Score"
      ]
    },
    {
      "cell_type": "code",
      "metadata": {
        "id": "vq3kB-nZDzvR"
      },
      "source": [
        "from sklearn.metrics import accuracy_score"
      ],
      "execution_count": null,
      "outputs": []
    },
    {
      "cell_type": "code",
      "metadata": {
        "colab": {
          "base_uri": "https://localhost:8080/"
        },
        "id": "QlX-fCcSD61j",
        "outputId": "77442f71-9bb8-465e-d6d6-df082473fa3d"
      },
      "source": [
        "print('Model accuracy score: {0:0.4f}'. format(accuracy_score(y_test, y_pred)))\n",
        "print('Training-set accuracy score: {0:0.4f}'. format(accuracy_score(y_train, y_pred_train)))"
      ],
      "execution_count": null,
      "outputs": [
        {
          "output_type": "stream",
          "text": [
            "Model accuracy score: 0.8450\n",
            "Training-set accuracy score: 0.8464\n"
          ],
          "name": "stdout"
        }
      ]
    },
    {
      "cell_type": "markdown",
      "metadata": {
        "id": "T0BNCJgCViMK"
      },
      "source": [
        "##Confusion Matrix"
      ]
    },
    {
      "cell_type": "code",
      "metadata": {
        "colab": {
          "base_uri": "https://localhost:8080/"
        },
        "id": "8T8nyJRqEt2t",
        "outputId": "c7cf8fcf-870a-4f68-d837-69be3bd0f200"
      },
      "source": [
        "from sklearn.metrics import confusion_matrix\n",
        "cm = confusion_matrix(y_test, y_pred)\n",
        "print('Confusion matrix\\n\\n', cm)\n",
        "print('\\nTrue Positives(TP) = ', cm[0,0])\n",
        "print('\\nTrue Negatives(TN) = ', cm[1,1])\n",
        "print('\\nFalse Positives(FP) = ', cm[0,1])\n",
        "print('\\nFalse Negatives(FN) = ', cm[1,0])\n",
        "acc= (cm[0,0]+cm[1,1])/(cm[0,0]+cm[1,1]+cm[0,1]+cm[1,0])\n",
        "print('Accuracy = ',acc)"
      ],
      "execution_count": null,
      "outputs": [
        {
          "output_type": "stream",
          "text": [
            "Confusion matrix\n",
            "\n",
            " [[  8 163]\n",
            " [  8 924]]\n",
            "\n",
            "True Positives(TP) =  8\n",
            "\n",
            "True Negatives(TN) =  924\n",
            "\n",
            "False Positives(FP) =  163\n",
            "\n",
            "False Negatives(FN) =  8\n",
            "Accuracy =  0.8449682683590208\n"
          ],
          "name": "stdout"
        }
      ]
    },
    {
      "cell_type": "markdown",
      "metadata": {
        "id": "NHh6hn8Fp8Vu"
      },
      "source": [
        "## Classification Report"
      ]
    },
    {
      "cell_type": "code",
      "metadata": {
        "colab": {
          "base_uri": "https://localhost:8080/"
        },
        "id": "BOsXEPnf8sJV",
        "outputId": "86f0f139-1751-42af-de85-5310a7fdd15b"
      },
      "source": [
        "from sklearn.metrics import classification_report\n",
        "cm = classification_report(y_test, y_pred)\n",
        "print('Classification Report \\n\\n', cm)"
      ],
      "execution_count": null,
      "outputs": [
        {
          "output_type": "stream",
          "text": [
            "Classification Report \n",
            "\n",
            "               precision    recall  f1-score   support\n",
            "\n",
            "           0       0.50      0.05      0.09       171\n",
            "           1       0.85      0.99      0.92       932\n",
            "\n",
            "    accuracy                           0.84      1103\n",
            "   macro avg       0.68      0.52      0.50      1103\n",
            "weighted avg       0.80      0.84      0.79      1103\n",
            "\n"
          ],
          "name": "stdout"
        }
      ]
    },
    {
      "cell_type": "markdown",
      "metadata": {
        "id": "nmZyDSJTnWFH"
      },
      "source": [
        "#Conclusion\n",
        "Hence, by logistic regression, we get an accuracy of 84% approx. to determine if an employee will resign or not.\n",
        "\n",
        "Of course, this result can be improved by using better classification algorithms like Random Forest Classifier, Support Vector Machine and more."
      ]
    }
  ]
}